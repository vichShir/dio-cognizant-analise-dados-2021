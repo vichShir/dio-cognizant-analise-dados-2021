{
 "cells": [
  {
   "cell_type": "markdown",
   "metadata": {
    "colab_type": "text",
    "id": "ZeNH2z6OzfND"
   },
   "source": [
    "# **Trabalhando com Planilhas do Excel - Datas**\n",
    "Complementado por vichShir"
   ]
  },
  {
   "cell_type": "markdown",
   "metadata": {},
   "source": [
    "### Carregar dados"
   ]
  },
  {
   "cell_type": "code",
   "execution_count": 5,
   "metadata": {},
   "outputs": [
    {
     "name": "stderr",
     "output_type": "stream",
     "text": [
      "WARNING: You are using pip version 21.2.4; however, version 21.3 is available.\n",
      "You should consider upgrading via the 'c:\\users\\victo\\appdata\\local\\programs\\python\\python38-32\\python.exe -m pip install --upgrade pip' command.\n"
     ]
    }
   ],
   "source": [
    "!pip install -q openpyxl"
   ]
  },
  {
   "cell_type": "code",
   "execution_count": 6,
   "metadata": {
    "colab": {},
    "colab_type": "code",
    "id": "Jwz3_uGfzmYp"
   },
   "outputs": [],
   "source": [
    "#Importando a biblioteca\n",
    "import pandas as pd"
   ]
  },
  {
   "cell_type": "code",
   "execution_count": 11,
   "metadata": {
    "colab": {},
    "colab_type": "code",
    "id": "pCTDd0YKzqkc"
   },
   "outputs": [],
   "source": [
    "#Leitura dos arquivos\n",
    "df1 = pd.read_excel(\"https://github.com/vichShir/dio-cognizant-analise-dados-2021/blob/master/Dados/Aracaju.xlsx?raw=true\", engine='openpyxl')\n",
    "df2 = pd.read_excel(\"https://github.com/vichShir/dio-cognizant-analise-dados-2021/blob/master/Dados/Fortaleza.xlsx?raw=true\", engine='openpyxl')\n",
    "df3 = pd.read_excel(\"https://github.com/vichShir/dio-cognizant-analise-dados-2021/blob/master/Dados/Natal.xlsx?raw=true\", engine='openpyxl')\n",
    "df4 = pd.read_excel(\"https://github.com/vichShir/dio-cognizant-analise-dados-2021/blob/master/Dados/Recife.xlsx?raw=true\", engine='openpyxl')\n",
    "df5 = pd.read_excel(\"https://github.com/vichShir/dio-cognizant-analise-dados-2021/blob/master/Dados/Salvador.xlsx?raw=true\", engine='openpyxl')"
   ]
  },
  {
   "cell_type": "markdown",
   "metadata": {},
   "source": [
    "### Visualizar os DataFrames"
   ]
  },
  {
   "cell_type": "code",
   "execution_count": 13,
   "metadata": {},
   "outputs": [
    {
     "data": {
      "text/html": [
       "<div>\n",
       "<style scoped>\n",
       "    .dataframe tbody tr th:only-of-type {\n",
       "        vertical-align: middle;\n",
       "    }\n",
       "\n",
       "    .dataframe tbody tr th {\n",
       "        vertical-align: top;\n",
       "    }\n",
       "\n",
       "    .dataframe thead th {\n",
       "        text-align: right;\n",
       "    }\n",
       "</style>\n",
       "<table border=\"1\" class=\"dataframe\">\n",
       "  <thead>\n",
       "    <tr style=\"text-align: right;\">\n",
       "      <th></th>\n",
       "      <th>Cidade</th>\n",
       "      <th>Data</th>\n",
       "      <th>Vendas</th>\n",
       "      <th>LojaID</th>\n",
       "      <th>Qtde</th>\n",
       "    </tr>\n",
       "  </thead>\n",
       "  <tbody>\n",
       "    <tr>\n",
       "      <th>0</th>\n",
       "      <td>Aracaju</td>\n",
       "      <td>2018-01-01</td>\n",
       "      <td>142.00</td>\n",
       "      <td>1520</td>\n",
       "      <td>1</td>\n",
       "    </tr>\n",
       "    <tr>\n",
       "      <th>1</th>\n",
       "      <td>Aracaju</td>\n",
       "      <td>2018-01-01</td>\n",
       "      <td>14.21</td>\n",
       "      <td>1522</td>\n",
       "      <td>6</td>\n",
       "    </tr>\n",
       "    <tr>\n",
       "      <th>2</th>\n",
       "      <td>Aracaju</td>\n",
       "      <td>2018-01-01</td>\n",
       "      <td>71.55</td>\n",
       "      <td>1520</td>\n",
       "      <td>1</td>\n",
       "    </tr>\n",
       "    <tr>\n",
       "      <th>3</th>\n",
       "      <td>Aracaju</td>\n",
       "      <td>2018-01-01</td>\n",
       "      <td>3.01</td>\n",
       "      <td>1521</td>\n",
       "      <td>7</td>\n",
       "    </tr>\n",
       "    <tr>\n",
       "      <th>4</th>\n",
       "      <td>Aracaju</td>\n",
       "      <td>2018-01-01</td>\n",
       "      <td>24.51</td>\n",
       "      <td>1522</td>\n",
       "      <td>8</td>\n",
       "    </tr>\n",
       "  </tbody>\n",
       "</table>\n",
       "</div>"
      ],
      "text/plain": [
       "    Cidade       Data  Vendas  LojaID  Qtde\n",
       "0  Aracaju 2018-01-01  142.00    1520     1\n",
       "1  Aracaju 2018-01-01   14.21    1522     6\n",
       "2  Aracaju 2018-01-01   71.55    1520     1\n",
       "3  Aracaju 2018-01-01    3.01    1521     7\n",
       "4  Aracaju 2018-01-01   24.51    1522     8"
      ]
     },
     "execution_count": 13,
     "metadata": {},
     "output_type": "execute_result"
    }
   ],
   "source": [
    "df1.head()"
   ]
  },
  {
   "cell_type": "code",
   "execution_count": 14,
   "metadata": {},
   "outputs": [
    {
     "data": {
      "text/html": [
       "<div>\n",
       "<style scoped>\n",
       "    .dataframe tbody tr th:only-of-type {\n",
       "        vertical-align: middle;\n",
       "    }\n",
       "\n",
       "    .dataframe tbody tr th {\n",
       "        vertical-align: top;\n",
       "    }\n",
       "\n",
       "    .dataframe thead th {\n",
       "        text-align: right;\n",
       "    }\n",
       "</style>\n",
       "<table border=\"1\" class=\"dataframe\">\n",
       "  <thead>\n",
       "    <tr style=\"text-align: right;\">\n",
       "      <th></th>\n",
       "      <th>Cidade</th>\n",
       "      <th>Data</th>\n",
       "      <th>Vendas</th>\n",
       "      <th>LojaID</th>\n",
       "      <th>Qtde</th>\n",
       "    </tr>\n",
       "  </thead>\n",
       "  <tbody>\n",
       "    <tr>\n",
       "      <th>0</th>\n",
       "      <td>Fortaleza</td>\n",
       "      <td>2019-01-01</td>\n",
       "      <td>45.27</td>\n",
       "      <td>1002</td>\n",
       "      <td>2</td>\n",
       "    </tr>\n",
       "    <tr>\n",
       "      <th>1</th>\n",
       "      <td>Fortaleza</td>\n",
       "      <td>2019-01-01</td>\n",
       "      <td>115.61</td>\n",
       "      <td>1002</td>\n",
       "      <td>3</td>\n",
       "    </tr>\n",
       "    <tr>\n",
       "      <th>2</th>\n",
       "      <td>Fortaleza</td>\n",
       "      <td>2019-02-10</td>\n",
       "      <td>35.33</td>\n",
       "      <td>1004</td>\n",
       "      <td>3</td>\n",
       "    </tr>\n",
       "    <tr>\n",
       "      <th>3</th>\n",
       "      <td>Fortaleza</td>\n",
       "      <td>2019-02-10</td>\n",
       "      <td>20.95</td>\n",
       "      <td>1004</td>\n",
       "      <td>6</td>\n",
       "    </tr>\n",
       "    <tr>\n",
       "      <th>4</th>\n",
       "      <td>Fortaleza</td>\n",
       "      <td>2019-01-01</td>\n",
       "      <td>14.25</td>\n",
       "      <td>1004</td>\n",
       "      <td>6</td>\n",
       "    </tr>\n",
       "  </tbody>\n",
       "</table>\n",
       "</div>"
      ],
      "text/plain": [
       "      Cidade       Data  Vendas  LojaID  Qtde\n",
       "0  Fortaleza 2019-01-01   45.27    1002     2\n",
       "1  Fortaleza 2019-01-01  115.61    1002     3\n",
       "2  Fortaleza 2019-02-10   35.33    1004     3\n",
       "3  Fortaleza 2019-02-10   20.95    1004     6\n",
       "4  Fortaleza 2019-01-01   14.25    1004     6"
      ]
     },
     "execution_count": 14,
     "metadata": {},
     "output_type": "execute_result"
    }
   ],
   "source": [
    "df2.head()"
   ]
  },
  {
   "cell_type": "code",
   "execution_count": 15,
   "metadata": {},
   "outputs": [
    {
     "data": {
      "text/html": [
       "<div>\n",
       "<style scoped>\n",
       "    .dataframe tbody tr th:only-of-type {\n",
       "        vertical-align: middle;\n",
       "    }\n",
       "\n",
       "    .dataframe tbody tr th {\n",
       "        vertical-align: top;\n",
       "    }\n",
       "\n",
       "    .dataframe thead th {\n",
       "        text-align: right;\n",
       "    }\n",
       "</style>\n",
       "<table border=\"1\" class=\"dataframe\">\n",
       "  <thead>\n",
       "    <tr style=\"text-align: right;\">\n",
       "      <th></th>\n",
       "      <th>Cidade</th>\n",
       "      <th>Data</th>\n",
       "      <th>Vendas</th>\n",
       "      <th>LojaID</th>\n",
       "      <th>Qtde</th>\n",
       "    </tr>\n",
       "  </thead>\n",
       "  <tbody>\n",
       "    <tr>\n",
       "      <th>0</th>\n",
       "      <td>Natal</td>\n",
       "      <td>2018-08-27</td>\n",
       "      <td>606.0</td>\n",
       "      <td>853</td>\n",
       "      <td>2</td>\n",
       "    </tr>\n",
       "    <tr>\n",
       "      <th>1</th>\n",
       "      <td>Natal</td>\n",
       "      <td>2018-11-25</td>\n",
       "      <td>563.0</td>\n",
       "      <td>853</td>\n",
       "      <td>2</td>\n",
       "    </tr>\n",
       "    <tr>\n",
       "      <th>2</th>\n",
       "      <td>Natal</td>\n",
       "      <td>2019-03-11</td>\n",
       "      <td>308.0</td>\n",
       "      <td>852</td>\n",
       "      <td>3</td>\n",
       "    </tr>\n",
       "    <tr>\n",
       "      <th>3</th>\n",
       "      <td>Natal</td>\n",
       "      <td>2019-01-07</td>\n",
       "      <td>271.0</td>\n",
       "      <td>854</td>\n",
       "      <td>3</td>\n",
       "    </tr>\n",
       "    <tr>\n",
       "      <th>4</th>\n",
       "      <td>Natal</td>\n",
       "      <td>2019-03-09</td>\n",
       "      <td>699.0</td>\n",
       "      <td>853</td>\n",
       "      <td>3</td>\n",
       "    </tr>\n",
       "  </tbody>\n",
       "</table>\n",
       "</div>"
      ],
      "text/plain": [
       "  Cidade       Data  Vendas  LojaID  Qtde\n",
       "0  Natal 2018-08-27   606.0     853     2\n",
       "1  Natal 2018-11-25   563.0     853     2\n",
       "2  Natal 2019-03-11   308.0     852     3\n",
       "3  Natal 2019-01-07   271.0     854     3\n",
       "4  Natal 2019-03-09   699.0     853     3"
      ]
     },
     "execution_count": 15,
     "metadata": {},
     "output_type": "execute_result"
    }
   ],
   "source": [
    "df3.head()"
   ]
  },
  {
   "cell_type": "code",
   "execution_count": 16,
   "metadata": {},
   "outputs": [
    {
     "data": {
      "text/html": [
       "<div>\n",
       "<style scoped>\n",
       "    .dataframe tbody tr th:only-of-type {\n",
       "        vertical-align: middle;\n",
       "    }\n",
       "\n",
       "    .dataframe tbody tr th {\n",
       "        vertical-align: top;\n",
       "    }\n",
       "\n",
       "    .dataframe thead th {\n",
       "        text-align: right;\n",
       "    }\n",
       "</style>\n",
       "<table border=\"1\" class=\"dataframe\">\n",
       "  <thead>\n",
       "    <tr style=\"text-align: right;\">\n",
       "      <th></th>\n",
       "      <th>Cidade</th>\n",
       "      <th>Data</th>\n",
       "      <th>Vendas</th>\n",
       "      <th>LojaID</th>\n",
       "      <th>Qtde</th>\n",
       "    </tr>\n",
       "  </thead>\n",
       "  <tbody>\n",
       "    <tr>\n",
       "      <th>0</th>\n",
       "      <td>Recife</td>\n",
       "      <td>2019-01-01</td>\n",
       "      <td>162.61</td>\n",
       "      <td>981</td>\n",
       "      <td>1</td>\n",
       "    </tr>\n",
       "    <tr>\n",
       "      <th>1</th>\n",
       "      <td>Recife</td>\n",
       "      <td>2019-01-01</td>\n",
       "      <td>11.44</td>\n",
       "      <td>983</td>\n",
       "      <td>1</td>\n",
       "    </tr>\n",
       "    <tr>\n",
       "      <th>2</th>\n",
       "      <td>Recife</td>\n",
       "      <td>2019-02-10</td>\n",
       "      <td>12.94</td>\n",
       "      <td>983</td>\n",
       "      <td>5</td>\n",
       "    </tr>\n",
       "    <tr>\n",
       "      <th>3</th>\n",
       "      <td>Recife</td>\n",
       "      <td>2019-02-10</td>\n",
       "      <td>160.54</td>\n",
       "      <td>981</td>\n",
       "      <td>3</td>\n",
       "    </tr>\n",
       "    <tr>\n",
       "      <th>4</th>\n",
       "      <td>Recife</td>\n",
       "      <td>2019-02-14</td>\n",
       "      <td>19.89</td>\n",
       "      <td>983</td>\n",
       "      <td>7</td>\n",
       "    </tr>\n",
       "  </tbody>\n",
       "</table>\n",
       "</div>"
      ],
      "text/plain": [
       "   Cidade       Data  Vendas  LojaID  Qtde\n",
       "0  Recife 2019-01-01  162.61     981     1\n",
       "1  Recife 2019-01-01   11.44     983     1\n",
       "2  Recife 2019-02-10   12.94     983     5\n",
       "3  Recife 2019-02-10  160.54     981     3\n",
       "4  Recife 2019-02-14   19.89     983     7"
      ]
     },
     "execution_count": 16,
     "metadata": {},
     "output_type": "execute_result"
    }
   ],
   "source": [
    "df4.head()"
   ]
  },
  {
   "cell_type": "code",
   "execution_count": 12,
   "metadata": {
    "colab": {
     "base_uri": "https://localhost:8080/",
     "height": 204
    },
    "colab_type": "code",
    "id": "bt3rZ7tWBPj7",
    "outputId": "ffe2a67a-51ad-4749-d941-81cdd22dd29b"
   },
   "outputs": [
    {
     "data": {
      "text/html": [
       "<div>\n",
       "<style scoped>\n",
       "    .dataframe tbody tr th:only-of-type {\n",
       "        vertical-align: middle;\n",
       "    }\n",
       "\n",
       "    .dataframe tbody tr th {\n",
       "        vertical-align: top;\n",
       "    }\n",
       "\n",
       "    .dataframe thead th {\n",
       "        text-align: right;\n",
       "    }\n",
       "</style>\n",
       "<table border=\"1\" class=\"dataframe\">\n",
       "  <thead>\n",
       "    <tr style=\"text-align: right;\">\n",
       "      <th></th>\n",
       "      <th>Cidade</th>\n",
       "      <th>Data</th>\n",
       "      <th>Vendas</th>\n",
       "      <th>LojaID</th>\n",
       "      <th>Qtde</th>\n",
       "    </tr>\n",
       "  </thead>\n",
       "  <tbody>\n",
       "    <tr>\n",
       "      <th>0</th>\n",
       "      <td>Salvador</td>\n",
       "      <td>2018-01-01</td>\n",
       "      <td>31.06</td>\n",
       "      <td>1037</td>\n",
       "      <td>3</td>\n",
       "    </tr>\n",
       "    <tr>\n",
       "      <th>1</th>\n",
       "      <td>Salvador</td>\n",
       "      <td>2018-01-01</td>\n",
       "      <td>19.02</td>\n",
       "      <td>1034</td>\n",
       "      <td>3</td>\n",
       "    </tr>\n",
       "    <tr>\n",
       "      <th>2</th>\n",
       "      <td>Salvador</td>\n",
       "      <td>2019-02-10</td>\n",
       "      <td>173.59</td>\n",
       "      <td>1035</td>\n",
       "      <td>3</td>\n",
       "    </tr>\n",
       "    <tr>\n",
       "      <th>3</th>\n",
       "      <td>Salvador</td>\n",
       "      <td>2019-02-10</td>\n",
       "      <td>176.34</td>\n",
       "      <td>1037</td>\n",
       "      <td>3</td>\n",
       "    </tr>\n",
       "    <tr>\n",
       "      <th>4</th>\n",
       "      <td>Salvador</td>\n",
       "      <td>2019-02-14</td>\n",
       "      <td>19.47</td>\n",
       "      <td>1037</td>\n",
       "      <td>3</td>\n",
       "    </tr>\n",
       "  </tbody>\n",
       "</table>\n",
       "</div>"
      ],
      "text/plain": [
       "     Cidade       Data  Vendas  LojaID  Qtde\n",
       "0  Salvador 2018-01-01   31.06    1037     3\n",
       "1  Salvador 2018-01-01   19.02    1034     3\n",
       "2  Salvador 2019-02-10  173.59    1035     3\n",
       "3  Salvador 2019-02-10  176.34    1037     3\n",
       "4  Salvador 2019-02-14   19.47    1037     3"
      ]
     },
     "execution_count": 12,
     "metadata": {},
     "output_type": "execute_result"
    }
   ],
   "source": [
    "df5.head()"
   ]
  },
  {
   "cell_type": "markdown",
   "metadata": {},
   "source": [
    "### Tratar dados"
   ]
  },
  {
   "cell_type": "code",
   "execution_count": 17,
   "metadata": {
    "colab": {},
    "colab_type": "code",
    "id": "7CUnX6220WVx"
   },
   "outputs": [],
   "source": [
    "#juntando todos os arquivos\n",
    "df = pd.concat([df1,df2,df3,df4,df5])"
   ]
  },
  {
   "cell_type": "code",
   "execution_count": 18,
   "metadata": {
    "colab": {
     "base_uri": "https://localhost:8080/",
     "height": 204
    },
    "colab_type": "code",
    "id": "3ZFau-ii08Lr",
    "outputId": "f1ed7fc3-ac01-4af0-cfae-392c343ffb03"
   },
   "outputs": [
    {
     "data": {
      "text/html": [
       "<div>\n",
       "<style scoped>\n",
       "    .dataframe tbody tr th:only-of-type {\n",
       "        vertical-align: middle;\n",
       "    }\n",
       "\n",
       "    .dataframe tbody tr th {\n",
       "        vertical-align: top;\n",
       "    }\n",
       "\n",
       "    .dataframe thead th {\n",
       "        text-align: right;\n",
       "    }\n",
       "</style>\n",
       "<table border=\"1\" class=\"dataframe\">\n",
       "  <thead>\n",
       "    <tr style=\"text-align: right;\">\n",
       "      <th></th>\n",
       "      <th>Cidade</th>\n",
       "      <th>Data</th>\n",
       "      <th>Vendas</th>\n",
       "      <th>LojaID</th>\n",
       "      <th>Qtde</th>\n",
       "    </tr>\n",
       "  </thead>\n",
       "  <tbody>\n",
       "    <tr>\n",
       "      <th>0</th>\n",
       "      <td>Aracaju</td>\n",
       "      <td>2018-01-01</td>\n",
       "      <td>142.00</td>\n",
       "      <td>1520</td>\n",
       "      <td>1</td>\n",
       "    </tr>\n",
       "    <tr>\n",
       "      <th>1</th>\n",
       "      <td>Aracaju</td>\n",
       "      <td>2018-01-01</td>\n",
       "      <td>14.21</td>\n",
       "      <td>1522</td>\n",
       "      <td>6</td>\n",
       "    </tr>\n",
       "    <tr>\n",
       "      <th>2</th>\n",
       "      <td>Aracaju</td>\n",
       "      <td>2018-01-01</td>\n",
       "      <td>71.55</td>\n",
       "      <td>1520</td>\n",
       "      <td>1</td>\n",
       "    </tr>\n",
       "    <tr>\n",
       "      <th>3</th>\n",
       "      <td>Aracaju</td>\n",
       "      <td>2018-01-01</td>\n",
       "      <td>3.01</td>\n",
       "      <td>1521</td>\n",
       "      <td>7</td>\n",
       "    </tr>\n",
       "    <tr>\n",
       "      <th>4</th>\n",
       "      <td>Aracaju</td>\n",
       "      <td>2018-01-01</td>\n",
       "      <td>24.51</td>\n",
       "      <td>1522</td>\n",
       "      <td>8</td>\n",
       "    </tr>\n",
       "  </tbody>\n",
       "</table>\n",
       "</div>"
      ],
      "text/plain": [
       "    Cidade       Data  Vendas  LojaID  Qtde\n",
       "0  Aracaju 2018-01-01  142.00    1520     1\n",
       "1  Aracaju 2018-01-01   14.21    1522     6\n",
       "2  Aracaju 2018-01-01   71.55    1520     1\n",
       "3  Aracaju 2018-01-01    3.01    1521     7\n",
       "4  Aracaju 2018-01-01   24.51    1522     8"
      ]
     },
     "execution_count": 18,
     "metadata": {},
     "output_type": "execute_result"
    }
   ],
   "source": [
    "#Exibindo as 5 primeiras linhas\n",
    "df.head()"
   ]
  },
  {
   "cell_type": "code",
   "execution_count": 19,
   "metadata": {
    "colab": {
     "base_uri": "https://localhost:8080/",
     "height": 204
    },
    "colab_type": "code",
    "id": "oURFLxhL09Uq",
    "outputId": "15c819f5-a1c0-42ac-a1be-4727c424340a"
   },
   "outputs": [
    {
     "data": {
      "text/html": [
       "<div>\n",
       "<style scoped>\n",
       "    .dataframe tbody tr th:only-of-type {\n",
       "        vertical-align: middle;\n",
       "    }\n",
       "\n",
       "    .dataframe tbody tr th {\n",
       "        vertical-align: top;\n",
       "    }\n",
       "\n",
       "    .dataframe thead th {\n",
       "        text-align: right;\n",
       "    }\n",
       "</style>\n",
       "<table border=\"1\" class=\"dataframe\">\n",
       "  <thead>\n",
       "    <tr style=\"text-align: right;\">\n",
       "      <th></th>\n",
       "      <th>Cidade</th>\n",
       "      <th>Data</th>\n",
       "      <th>Vendas</th>\n",
       "      <th>LojaID</th>\n",
       "      <th>Qtde</th>\n",
       "    </tr>\n",
       "  </thead>\n",
       "  <tbody>\n",
       "    <tr>\n",
       "      <th>235</th>\n",
       "      <td>Salvador</td>\n",
       "      <td>2019-01-03</td>\n",
       "      <td>41.84</td>\n",
       "      <td>1034</td>\n",
       "      <td>1</td>\n",
       "    </tr>\n",
       "    <tr>\n",
       "      <th>236</th>\n",
       "      <td>Salvador</td>\n",
       "      <td>2019-01-03</td>\n",
       "      <td>126.29</td>\n",
       "      <td>1035</td>\n",
       "      <td>3</td>\n",
       "    </tr>\n",
       "    <tr>\n",
       "      <th>237</th>\n",
       "      <td>Salvador</td>\n",
       "      <td>2019-01-03</td>\n",
       "      <td>38.06</td>\n",
       "      <td>1036</td>\n",
       "      <td>3</td>\n",
       "    </tr>\n",
       "    <tr>\n",
       "      <th>238</th>\n",
       "      <td>Salvador</td>\n",
       "      <td>2019-01-03</td>\n",
       "      <td>139.64</td>\n",
       "      <td>1035</td>\n",
       "      <td>1</td>\n",
       "    </tr>\n",
       "    <tr>\n",
       "      <th>239</th>\n",
       "      <td>Salvador</td>\n",
       "      <td>2019-01-03</td>\n",
       "      <td>161.41</td>\n",
       "      <td>1037</td>\n",
       "      <td>3</td>\n",
       "    </tr>\n",
       "  </tbody>\n",
       "</table>\n",
       "</div>"
      ],
      "text/plain": [
       "       Cidade       Data  Vendas  LojaID  Qtde\n",
       "235  Salvador 2019-01-03   41.84    1034     1\n",
       "236  Salvador 2019-01-03  126.29    1035     3\n",
       "237  Salvador 2019-01-03   38.06    1036     3\n",
       "238  Salvador 2019-01-03  139.64    1035     1\n",
       "239  Salvador 2019-01-03  161.41    1037     3"
      ]
     },
     "execution_count": 19,
     "metadata": {},
     "output_type": "execute_result"
    }
   ],
   "source": [
    "#Exibindo as 5 últimas linhas\n",
    "df.tail()"
   ]
  },
  {
   "cell_type": "code",
   "execution_count": 20,
   "metadata": {
    "colab": {
     "base_uri": "https://localhost:8080/",
     "height": 204
    },
    "colab_type": "code",
    "id": "j8eDDblOBsRG",
    "outputId": "efe39301-6ece-4446-a3b9-60cb39095e69"
   },
   "outputs": [
    {
     "data": {
      "text/html": [
       "<div>\n",
       "<style scoped>\n",
       "    .dataframe tbody tr th:only-of-type {\n",
       "        vertical-align: middle;\n",
       "    }\n",
       "\n",
       "    .dataframe tbody tr th {\n",
       "        vertical-align: top;\n",
       "    }\n",
       "\n",
       "    .dataframe thead th {\n",
       "        text-align: right;\n",
       "    }\n",
       "</style>\n",
       "<table border=\"1\" class=\"dataframe\">\n",
       "  <thead>\n",
       "    <tr style=\"text-align: right;\">\n",
       "      <th></th>\n",
       "      <th>Cidade</th>\n",
       "      <th>Data</th>\n",
       "      <th>Vendas</th>\n",
       "      <th>LojaID</th>\n",
       "      <th>Qtde</th>\n",
       "    </tr>\n",
       "  </thead>\n",
       "  <tbody>\n",
       "    <tr>\n",
       "      <th>76</th>\n",
       "      <td>Salvador</td>\n",
       "      <td>2019-01-01</td>\n",
       "      <td>39.51</td>\n",
       "      <td>1035</td>\n",
       "      <td>3</td>\n",
       "    </tr>\n",
       "    <tr>\n",
       "      <th>130</th>\n",
       "      <td>Fortaleza</td>\n",
       "      <td>2019-03-02</td>\n",
       "      <td>12.36</td>\n",
       "      <td>983</td>\n",
       "      <td>4</td>\n",
       "    </tr>\n",
       "    <tr>\n",
       "      <th>94</th>\n",
       "      <td>Salvador</td>\n",
       "      <td>2019-01-01</td>\n",
       "      <td>33.24</td>\n",
       "      <td>1037</td>\n",
       "      <td>1</td>\n",
       "    </tr>\n",
       "    <tr>\n",
       "      <th>9</th>\n",
       "      <td>Natal</td>\n",
       "      <td>2018-05-02</td>\n",
       "      <td>261.00</td>\n",
       "      <td>852</td>\n",
       "      <td>3</td>\n",
       "    </tr>\n",
       "    <tr>\n",
       "      <th>81</th>\n",
       "      <td>Aracaju</td>\n",
       "      <td>2018-01-01</td>\n",
       "      <td>53.41</td>\n",
       "      <td>1520</td>\n",
       "      <td>2</td>\n",
       "    </tr>\n",
       "  </tbody>\n",
       "</table>\n",
       "</div>"
      ],
      "text/plain": [
       "        Cidade       Data  Vendas  LojaID  Qtde\n",
       "76    Salvador 2019-01-01   39.51    1035     3\n",
       "130  Fortaleza 2019-03-02   12.36     983     4\n",
       "94    Salvador 2019-01-01   33.24    1037     1\n",
       "9        Natal 2018-05-02  261.00     852     3\n",
       "81     Aracaju 2018-01-01   53.41    1520     2"
      ]
     },
     "execution_count": 20,
     "metadata": {},
     "output_type": "execute_result"
    }
   ],
   "source": [
    "df.sample(5)"
   ]
  },
  {
   "cell_type": "code",
   "execution_count": 21,
   "metadata": {
    "colab": {
     "base_uri": "https://localhost:8080/",
     "height": 119
    },
    "colab_type": "code",
    "id": "kw0zQfVL0_-L",
    "outputId": "3617ad27-63b0-483f-ea6e-1a8413272afc"
   },
   "outputs": [
    {
     "data": {
      "text/plain": [
       "Cidade            object\n",
       "Data      datetime64[ns]\n",
       "Vendas           float64\n",
       "LojaID             int64\n",
       "Qtde               int64\n",
       "dtype: object"
      ]
     },
     "execution_count": 21,
     "metadata": {},
     "output_type": "execute_result"
    }
   ],
   "source": [
    "#Verificando o tipo de dado de cada coluna\n",
    "df.dtypes"
   ]
  },
  {
   "cell_type": "code",
   "execution_count": 22,
   "metadata": {
    "colab": {},
    "colab_type": "code",
    "id": "JB2rkM0b1kKF"
   },
   "outputs": [],
   "source": [
    "#Alterando o tipo de dado da coluna LojaID\n",
    "df[\"LojaID\"] = df[\"LojaID\"].astype(\"object\")"
   ]
  },
  {
   "cell_type": "code",
   "execution_count": 23,
   "metadata": {
    "colab": {
     "base_uri": "https://localhost:8080/",
     "height": 119
    },
    "colab_type": "code",
    "id": "3t1uir2H1w3x",
    "outputId": "a8d766f2-504e-4fcb-dc09-842b4c5218b6"
   },
   "outputs": [
    {
     "data": {
      "text/plain": [
       "Cidade            object\n",
       "Data      datetime64[ns]\n",
       "Vendas           float64\n",
       "LojaID            object\n",
       "Qtde               int64\n",
       "dtype: object"
      ]
     },
     "execution_count": 23,
     "metadata": {},
     "output_type": "execute_result"
    }
   ],
   "source": [
    "df.dtypes"
   ]
  },
  {
   "cell_type": "code",
   "execution_count": 24,
   "metadata": {
    "colab": {
     "base_uri": "https://localhost:8080/",
     "height": 204
    },
    "colab_type": "code",
    "id": "B0Z8PPuJ19dc",
    "outputId": "10d2f11c-d421-4434-fe61-dfa537b7d6bf"
   },
   "outputs": [
    {
     "data": {
      "text/html": [
       "<div>\n",
       "<style scoped>\n",
       "    .dataframe tbody tr th:only-of-type {\n",
       "        vertical-align: middle;\n",
       "    }\n",
       "\n",
       "    .dataframe tbody tr th {\n",
       "        vertical-align: top;\n",
       "    }\n",
       "\n",
       "    .dataframe thead th {\n",
       "        text-align: right;\n",
       "    }\n",
       "</style>\n",
       "<table border=\"1\" class=\"dataframe\">\n",
       "  <thead>\n",
       "    <tr style=\"text-align: right;\">\n",
       "      <th></th>\n",
       "      <th>Cidade</th>\n",
       "      <th>Data</th>\n",
       "      <th>Vendas</th>\n",
       "      <th>LojaID</th>\n",
       "      <th>Qtde</th>\n",
       "    </tr>\n",
       "  </thead>\n",
       "  <tbody>\n",
       "    <tr>\n",
       "      <th>0</th>\n",
       "      <td>Aracaju</td>\n",
       "      <td>2018-01-01</td>\n",
       "      <td>142.00</td>\n",
       "      <td>1520</td>\n",
       "      <td>1</td>\n",
       "    </tr>\n",
       "    <tr>\n",
       "      <th>1</th>\n",
       "      <td>Aracaju</td>\n",
       "      <td>2018-01-01</td>\n",
       "      <td>14.21</td>\n",
       "      <td>1522</td>\n",
       "      <td>6</td>\n",
       "    </tr>\n",
       "    <tr>\n",
       "      <th>2</th>\n",
       "      <td>Aracaju</td>\n",
       "      <td>2018-01-01</td>\n",
       "      <td>71.55</td>\n",
       "      <td>1520</td>\n",
       "      <td>1</td>\n",
       "    </tr>\n",
       "    <tr>\n",
       "      <th>3</th>\n",
       "      <td>Aracaju</td>\n",
       "      <td>2018-01-01</td>\n",
       "      <td>3.01</td>\n",
       "      <td>1521</td>\n",
       "      <td>7</td>\n",
       "    </tr>\n",
       "    <tr>\n",
       "      <th>4</th>\n",
       "      <td>Aracaju</td>\n",
       "      <td>2018-01-01</td>\n",
       "      <td>24.51</td>\n",
       "      <td>1522</td>\n",
       "      <td>8</td>\n",
       "    </tr>\n",
       "  </tbody>\n",
       "</table>\n",
       "</div>"
      ],
      "text/plain": [
       "    Cidade       Data  Vendas LojaID  Qtde\n",
       "0  Aracaju 2018-01-01  142.00   1520     1\n",
       "1  Aracaju 2018-01-01   14.21   1522     6\n",
       "2  Aracaju 2018-01-01   71.55   1520     1\n",
       "3  Aracaju 2018-01-01    3.01   1521     7\n",
       "4  Aracaju 2018-01-01   24.51   1522     8"
      ]
     },
     "execution_count": 24,
     "metadata": {},
     "output_type": "execute_result"
    }
   ],
   "source": [
    "df.head()"
   ]
  },
  {
   "cell_type": "markdown",
   "metadata": {
    "colab_type": "text",
    "id": "br1B_k4v2HVF"
   },
   "source": [
    "### **Tratando valores faltantes**"
   ]
  },
  {
   "cell_type": "code",
   "execution_count": 25,
   "metadata": {
    "colab": {
     "base_uri": "https://localhost:8080/",
     "height": 119
    },
    "colab_type": "code",
    "id": "J5L9EehP2MQ_",
    "outputId": "91e21217-879a-426d-8b2b-fb15e77b2f87"
   },
   "outputs": [
    {
     "data": {
      "text/plain": [
       "Cidade    0\n",
       "Data      0\n",
       "Vendas    0\n",
       "LojaID    0\n",
       "Qtde      0\n",
       "dtype: int64"
      ]
     },
     "execution_count": 25,
     "metadata": {},
     "output_type": "execute_result"
    }
   ],
   "source": [
    "#Consultando linhas com valores faltantes\n",
    "df.isnull().sum()"
   ]
  },
  {
   "cell_type": "code",
   "execution_count": 26,
   "metadata": {
    "colab": {},
    "colab_type": "code",
    "id": "Pbq2ztpN3Qn8"
   },
   "outputs": [],
   "source": [
    "#Substituindo os valores nulos pela média\n",
    "df[\"Vendas\"].fillna(df[\"Vendas\"].mean(), inplace=True)"
   ]
  },
  {
   "cell_type": "code",
   "execution_count": 27,
   "metadata": {
    "colab": {
     "base_uri": "https://localhost:8080/",
     "height": 34
    },
    "colab_type": "code",
    "id": "mD0kfsgSC4Qm",
    "outputId": "ed9d1efa-e3b7-479e-9119-bab340148876"
   },
   "outputs": [
    {
     "data": {
      "text/plain": [
       "122.61180089485458"
      ]
     },
     "execution_count": 27,
     "metadata": {},
     "output_type": "execute_result"
    }
   ],
   "source": [
    "df[\"Vendas\"].mean()"
   ]
  },
  {
   "cell_type": "code",
   "execution_count": 28,
   "metadata": {
    "colab": {
     "base_uri": "https://localhost:8080/",
     "height": 119
    },
    "colab_type": "code",
    "id": "lA5QVn5N4C-A",
    "outputId": "84874d37-3368-452f-bed6-43782dea6cf6"
   },
   "outputs": [
    {
     "data": {
      "text/plain": [
       "Cidade    0\n",
       "Data      0\n",
       "Vendas    0\n",
       "LojaID    0\n",
       "Qtde      0\n",
       "dtype: int64"
      ]
     },
     "execution_count": 28,
     "metadata": {},
     "output_type": "execute_result"
    }
   ],
   "source": [
    "df.isnull().sum()"
   ]
  },
  {
   "cell_type": "code",
   "execution_count": 29,
   "metadata": {
    "colab": {
     "base_uri": "https://localhost:8080/",
     "height": 514
    },
    "colab_type": "code",
    "id": "ds7pcl-ZCzb_",
    "outputId": "e37c7b13-8bd1-46e2-e3f3-104e7fce8f8a"
   },
   "outputs": [
    {
     "data": {
      "text/html": [
       "<div>\n",
       "<style scoped>\n",
       "    .dataframe tbody tr th:only-of-type {\n",
       "        vertical-align: middle;\n",
       "    }\n",
       "\n",
       "    .dataframe tbody tr th {\n",
       "        vertical-align: top;\n",
       "    }\n",
       "\n",
       "    .dataframe thead th {\n",
       "        text-align: right;\n",
       "    }\n",
       "</style>\n",
       "<table border=\"1\" class=\"dataframe\">\n",
       "  <thead>\n",
       "    <tr style=\"text-align: right;\">\n",
       "      <th></th>\n",
       "      <th>Cidade</th>\n",
       "      <th>Data</th>\n",
       "      <th>Vendas</th>\n",
       "      <th>LojaID</th>\n",
       "      <th>Qtde</th>\n",
       "    </tr>\n",
       "  </thead>\n",
       "  <tbody>\n",
       "    <tr>\n",
       "      <th>162</th>\n",
       "      <td>Natal</td>\n",
       "      <td>2019-01-02</td>\n",
       "      <td>23.08</td>\n",
       "      <td>1036</td>\n",
       "      <td>2</td>\n",
       "    </tr>\n",
       "    <tr>\n",
       "      <th>125</th>\n",
       "      <td>Salvador</td>\n",
       "      <td>2019-03-02</td>\n",
       "      <td>25.00</td>\n",
       "      <td>1037</td>\n",
       "      <td>2</td>\n",
       "    </tr>\n",
       "    <tr>\n",
       "      <th>143</th>\n",
       "      <td>Salvador</td>\n",
       "      <td>2019-01-02</td>\n",
       "      <td>41.18</td>\n",
       "      <td>1037</td>\n",
       "      <td>2</td>\n",
       "    </tr>\n",
       "    <tr>\n",
       "      <th>10</th>\n",
       "      <td>Fortaleza</td>\n",
       "      <td>2019-01-01</td>\n",
       "      <td>179.88</td>\n",
       "      <td>1002</td>\n",
       "      <td>4</td>\n",
       "    </tr>\n",
       "    <tr>\n",
       "      <th>28</th>\n",
       "      <td>Salvador</td>\n",
       "      <td>2019-01-01</td>\n",
       "      <td>162.34</td>\n",
       "      <td>1035</td>\n",
       "      <td>2</td>\n",
       "    </tr>\n",
       "    <tr>\n",
       "      <th>226</th>\n",
       "      <td>Salvador</td>\n",
       "      <td>2019-01-02</td>\n",
       "      <td>38.32</td>\n",
       "      <td>1035</td>\n",
       "      <td>2</td>\n",
       "    </tr>\n",
       "    <tr>\n",
       "      <th>96</th>\n",
       "      <td>Recife</td>\n",
       "      <td>2019-01-01</td>\n",
       "      <td>165.36</td>\n",
       "      <td>982</td>\n",
       "      <td>7</td>\n",
       "    </tr>\n",
       "    <tr>\n",
       "      <th>71</th>\n",
       "      <td>Recife</td>\n",
       "      <td>2019-01-01</td>\n",
       "      <td>138.69</td>\n",
       "      <td>983</td>\n",
       "      <td>3</td>\n",
       "    </tr>\n",
       "    <tr>\n",
       "      <th>128</th>\n",
       "      <td>Natal</td>\n",
       "      <td>2019-01-02</td>\n",
       "      <td>36.84</td>\n",
       "      <td>1034</td>\n",
       "      <td>1</td>\n",
       "    </tr>\n",
       "    <tr>\n",
       "      <th>37</th>\n",
       "      <td>Natal</td>\n",
       "      <td>2018-10-03</td>\n",
       "      <td>726.00</td>\n",
       "      <td>852</td>\n",
       "      <td>2</td>\n",
       "    </tr>\n",
       "    <tr>\n",
       "      <th>161</th>\n",
       "      <td>Salvador</td>\n",
       "      <td>2019-01-02</td>\n",
       "      <td>5.80</td>\n",
       "      <td>1036</td>\n",
       "      <td>1</td>\n",
       "    </tr>\n",
       "    <tr>\n",
       "      <th>122</th>\n",
       "      <td>Aracaju</td>\n",
       "      <td>2018-01-01</td>\n",
       "      <td>38.49</td>\n",
       "      <td>1522</td>\n",
       "      <td>4</td>\n",
       "    </tr>\n",
       "    <tr>\n",
       "      <th>64</th>\n",
       "      <td>Salvador</td>\n",
       "      <td>2019-01-01</td>\n",
       "      <td>37.96</td>\n",
       "      <td>1037</td>\n",
       "      <td>3</td>\n",
       "    </tr>\n",
       "    <tr>\n",
       "      <th>130</th>\n",
       "      <td>Natal</td>\n",
       "      <td>2019-01-02</td>\n",
       "      <td>59.78</td>\n",
       "      <td>1036</td>\n",
       "      <td>1</td>\n",
       "    </tr>\n",
       "    <tr>\n",
       "      <th>8</th>\n",
       "      <td>Aracaju</td>\n",
       "      <td>2019-01-01</td>\n",
       "      <td>12.16</td>\n",
       "      <td>1523</td>\n",
       "      <td>1</td>\n",
       "    </tr>\n",
       "  </tbody>\n",
       "</table>\n",
       "</div>"
      ],
      "text/plain": [
       "        Cidade       Data  Vendas LojaID  Qtde\n",
       "162      Natal 2019-01-02   23.08   1036     2\n",
       "125   Salvador 2019-03-02   25.00   1037     2\n",
       "143   Salvador 2019-01-02   41.18   1037     2\n",
       "10   Fortaleza 2019-01-01  179.88   1002     4\n",
       "28    Salvador 2019-01-01  162.34   1035     2\n",
       "226   Salvador 2019-01-02   38.32   1035     2\n",
       "96      Recife 2019-01-01  165.36    982     7\n",
       "71      Recife 2019-01-01  138.69    983     3\n",
       "128      Natal 2019-01-02   36.84   1034     1\n",
       "37       Natal 2018-10-03  726.00    852     2\n",
       "161   Salvador 2019-01-02    5.80   1036     1\n",
       "122    Aracaju 2018-01-01   38.49   1522     4\n",
       "64    Salvador 2019-01-01   37.96   1037     3\n",
       "130      Natal 2019-01-02   59.78   1036     1\n",
       "8      Aracaju 2019-01-01   12.16   1523     1"
      ]
     },
     "execution_count": 29,
     "metadata": {},
     "output_type": "execute_result"
    }
   ],
   "source": [
    "df.sample(15)"
   ]
  },
  {
   "cell_type": "code",
   "execution_count": 30,
   "metadata": {
    "colab": {},
    "colab_type": "code",
    "id": "mMzEuPzg4N7U"
   },
   "outputs": [],
   "source": [
    "#Substituindo os valores nulos por zero\n",
    "df[\"Vendas\"].fillna(0, inplace=True)"
   ]
  },
  {
   "cell_type": "code",
   "execution_count": 31,
   "metadata": {
    "colab": {},
    "colab_type": "code",
    "id": "pS7Hw6Df4Z7x"
   },
   "outputs": [],
   "source": [
    "#Apagando as linhas com valores nulos\n",
    "df.dropna(inplace=True)"
   ]
  },
  {
   "cell_type": "code",
   "execution_count": 32,
   "metadata": {
    "colab": {},
    "colab_type": "code",
    "id": "iCpMj9MD4mW4"
   },
   "outputs": [],
   "source": [
    "#Apagando as linhas com valores nulos com base apenas em 1 coluna\n",
    "df.dropna(subset=[\"Vendas\"], inplace=True)"
   ]
  },
  {
   "cell_type": "code",
   "execution_count": 33,
   "metadata": {
    "colab": {},
    "colab_type": "code",
    "id": "LYGy2VqH8uaM"
   },
   "outputs": [],
   "source": [
    "#Removendo linhas que estejam com valores faltantes em todas as colunas\n",
    "df.dropna(how=\"all\", inplace=True)"
   ]
  },
  {
   "cell_type": "markdown",
   "metadata": {
    "colab_type": "text",
    "id": "6qEyt17h9IwX"
   },
   "source": [
    "### **Criando colunas novas**"
   ]
  },
  {
   "cell_type": "code",
   "execution_count": 34,
   "metadata": {
    "colab": {},
    "colab_type": "code",
    "id": "1HAAiPkh1yIN"
   },
   "outputs": [],
   "source": [
    "#Criando a coluna de receita\n",
    "df[\"Receita\"] = df[\"Vendas\"].mul(df[\"Qtde\"])"
   ]
  },
  {
   "cell_type": "code",
   "execution_count": 35,
   "metadata": {
    "colab": {
     "base_uri": "https://localhost:8080/",
     "height": 204
    },
    "colab_type": "code",
    "id": "_gMBlvMq5fPj",
    "outputId": "a971500e-05cb-417a-f782-9a7737c2728f"
   },
   "outputs": [
    {
     "data": {
      "text/html": [
       "<div>\n",
       "<style scoped>\n",
       "    .dataframe tbody tr th:only-of-type {\n",
       "        vertical-align: middle;\n",
       "    }\n",
       "\n",
       "    .dataframe tbody tr th {\n",
       "        vertical-align: top;\n",
       "    }\n",
       "\n",
       "    .dataframe thead th {\n",
       "        text-align: right;\n",
       "    }\n",
       "</style>\n",
       "<table border=\"1\" class=\"dataframe\">\n",
       "  <thead>\n",
       "    <tr style=\"text-align: right;\">\n",
       "      <th></th>\n",
       "      <th>Cidade</th>\n",
       "      <th>Data</th>\n",
       "      <th>Vendas</th>\n",
       "      <th>LojaID</th>\n",
       "      <th>Qtde</th>\n",
       "      <th>Receita</th>\n",
       "    </tr>\n",
       "  </thead>\n",
       "  <tbody>\n",
       "    <tr>\n",
       "      <th>0</th>\n",
       "      <td>Aracaju</td>\n",
       "      <td>2018-01-01</td>\n",
       "      <td>142.00</td>\n",
       "      <td>1520</td>\n",
       "      <td>1</td>\n",
       "      <td>142.00</td>\n",
       "    </tr>\n",
       "    <tr>\n",
       "      <th>1</th>\n",
       "      <td>Aracaju</td>\n",
       "      <td>2018-01-01</td>\n",
       "      <td>14.21</td>\n",
       "      <td>1522</td>\n",
       "      <td>6</td>\n",
       "      <td>85.26</td>\n",
       "    </tr>\n",
       "    <tr>\n",
       "      <th>2</th>\n",
       "      <td>Aracaju</td>\n",
       "      <td>2018-01-01</td>\n",
       "      <td>71.55</td>\n",
       "      <td>1520</td>\n",
       "      <td>1</td>\n",
       "      <td>71.55</td>\n",
       "    </tr>\n",
       "    <tr>\n",
       "      <th>3</th>\n",
       "      <td>Aracaju</td>\n",
       "      <td>2018-01-01</td>\n",
       "      <td>3.01</td>\n",
       "      <td>1521</td>\n",
       "      <td>7</td>\n",
       "      <td>21.07</td>\n",
       "    </tr>\n",
       "    <tr>\n",
       "      <th>4</th>\n",
       "      <td>Aracaju</td>\n",
       "      <td>2018-01-01</td>\n",
       "      <td>24.51</td>\n",
       "      <td>1522</td>\n",
       "      <td>8</td>\n",
       "      <td>196.08</td>\n",
       "    </tr>\n",
       "  </tbody>\n",
       "</table>\n",
       "</div>"
      ],
      "text/plain": [
       "    Cidade       Data  Vendas LojaID  Qtde  Receita\n",
       "0  Aracaju 2018-01-01  142.00   1520     1   142.00\n",
       "1  Aracaju 2018-01-01   14.21   1522     6    85.26\n",
       "2  Aracaju 2018-01-01   71.55   1520     1    71.55\n",
       "3  Aracaju 2018-01-01    3.01   1521     7    21.07\n",
       "4  Aracaju 2018-01-01   24.51   1522     8   196.08"
      ]
     },
     "execution_count": 35,
     "metadata": {},
     "output_type": "execute_result"
    }
   ],
   "source": [
    "df.head()"
   ]
  },
  {
   "cell_type": "code",
   "execution_count": 36,
   "metadata": {
    "colab": {},
    "colab_type": "code",
    "id": "DyU5SIhB9Q8w"
   },
   "outputs": [],
   "source": [
    "df[\"Receita/Vendas\"] = df[\"Receita\"] / df[\"Vendas\"] "
   ]
  },
  {
   "cell_type": "code",
   "execution_count": 37,
   "metadata": {
    "colab": {
     "base_uri": "https://localhost:8080/",
     "height": 204
    },
    "colab_type": "code",
    "id": "YfMgO16q9m8F",
    "outputId": "6b323566-e8aa-4a51-8623-cd0c7ec0cd69"
   },
   "outputs": [
    {
     "data": {
      "text/html": [
       "<div>\n",
       "<style scoped>\n",
       "    .dataframe tbody tr th:only-of-type {\n",
       "        vertical-align: middle;\n",
       "    }\n",
       "\n",
       "    .dataframe tbody tr th {\n",
       "        vertical-align: top;\n",
       "    }\n",
       "\n",
       "    .dataframe thead th {\n",
       "        text-align: right;\n",
       "    }\n",
       "</style>\n",
       "<table border=\"1\" class=\"dataframe\">\n",
       "  <thead>\n",
       "    <tr style=\"text-align: right;\">\n",
       "      <th></th>\n",
       "      <th>Cidade</th>\n",
       "      <th>Data</th>\n",
       "      <th>Vendas</th>\n",
       "      <th>LojaID</th>\n",
       "      <th>Qtde</th>\n",
       "      <th>Receita</th>\n",
       "      <th>Receita/Vendas</th>\n",
       "    </tr>\n",
       "  </thead>\n",
       "  <tbody>\n",
       "    <tr>\n",
       "      <th>0</th>\n",
       "      <td>Aracaju</td>\n",
       "      <td>2018-01-01</td>\n",
       "      <td>142.00</td>\n",
       "      <td>1520</td>\n",
       "      <td>1</td>\n",
       "      <td>142.00</td>\n",
       "      <td>1.0</td>\n",
       "    </tr>\n",
       "    <tr>\n",
       "      <th>1</th>\n",
       "      <td>Aracaju</td>\n",
       "      <td>2018-01-01</td>\n",
       "      <td>14.21</td>\n",
       "      <td>1522</td>\n",
       "      <td>6</td>\n",
       "      <td>85.26</td>\n",
       "      <td>6.0</td>\n",
       "    </tr>\n",
       "    <tr>\n",
       "      <th>2</th>\n",
       "      <td>Aracaju</td>\n",
       "      <td>2018-01-01</td>\n",
       "      <td>71.55</td>\n",
       "      <td>1520</td>\n",
       "      <td>1</td>\n",
       "      <td>71.55</td>\n",
       "      <td>1.0</td>\n",
       "    </tr>\n",
       "    <tr>\n",
       "      <th>3</th>\n",
       "      <td>Aracaju</td>\n",
       "      <td>2018-01-01</td>\n",
       "      <td>3.01</td>\n",
       "      <td>1521</td>\n",
       "      <td>7</td>\n",
       "      <td>21.07</td>\n",
       "      <td>7.0</td>\n",
       "    </tr>\n",
       "    <tr>\n",
       "      <th>4</th>\n",
       "      <td>Aracaju</td>\n",
       "      <td>2018-01-01</td>\n",
       "      <td>24.51</td>\n",
       "      <td>1522</td>\n",
       "      <td>8</td>\n",
       "      <td>196.08</td>\n",
       "      <td>8.0</td>\n",
       "    </tr>\n",
       "  </tbody>\n",
       "</table>\n",
       "</div>"
      ],
      "text/plain": [
       "    Cidade       Data  Vendas LojaID  Qtde  Receita  Receita/Vendas\n",
       "0  Aracaju 2018-01-01  142.00   1520     1   142.00             1.0\n",
       "1  Aracaju 2018-01-01   14.21   1522     6    85.26             6.0\n",
       "2  Aracaju 2018-01-01   71.55   1520     1    71.55             1.0\n",
       "3  Aracaju 2018-01-01    3.01   1521     7    21.07             7.0\n",
       "4  Aracaju 2018-01-01   24.51   1522     8   196.08             8.0"
      ]
     },
     "execution_count": 37,
     "metadata": {},
     "output_type": "execute_result"
    }
   ],
   "source": [
    "df.head()"
   ]
  },
  {
   "cell_type": "code",
   "execution_count": 38,
   "metadata": {
    "colab": {
     "base_uri": "https://localhost:8080/",
     "height": 34
    },
    "colab_type": "code",
    "id": "8uy9S6JZ3DB4",
    "outputId": "1e059579-152c-4151-8aaf-2f61e689644b"
   },
   "outputs": [
    {
     "data": {
      "text/plain": [
       "3544.0"
      ]
     },
     "execution_count": 38,
     "metadata": {},
     "output_type": "execute_result"
    }
   ],
   "source": [
    "#Retornando a maior receita\n",
    "df[\"Receita\"].max()"
   ]
  },
  {
   "cell_type": "code",
   "execution_count": 39,
   "metadata": {
    "colab": {
     "base_uri": "https://localhost:8080/",
     "height": 34
    },
    "colab_type": "code",
    "id": "y0eoDEcQ5cZC",
    "outputId": "4a520c61-b418-4bdc-8196-f4ea5eee07c8"
   },
   "outputs": [
    {
     "data": {
      "text/plain": [
       "3.34"
      ]
     },
     "execution_count": 39,
     "metadata": {},
     "output_type": "execute_result"
    }
   ],
   "source": [
    "#Retornando a menor receita\n",
    "df[\"Receita\"].min()"
   ]
  },
  {
   "cell_type": "code",
   "execution_count": 40,
   "metadata": {
    "colab": {
     "base_uri": "https://localhost:8080/",
     "height": 142
    },
    "colab_type": "code",
    "id": "gX87zZJ45p5e",
    "outputId": "bf1cce13-9157-4752-cf40-32b31f0c6977"
   },
   "outputs": [
    {
     "data": {
      "text/html": [
       "<div>\n",
       "<style scoped>\n",
       "    .dataframe tbody tr th:only-of-type {\n",
       "        vertical-align: middle;\n",
       "    }\n",
       "\n",
       "    .dataframe tbody tr th {\n",
       "        vertical-align: top;\n",
       "    }\n",
       "\n",
       "    .dataframe thead th {\n",
       "        text-align: right;\n",
       "    }\n",
       "</style>\n",
       "<table border=\"1\" class=\"dataframe\">\n",
       "  <thead>\n",
       "    <tr style=\"text-align: right;\">\n",
       "      <th></th>\n",
       "      <th>Cidade</th>\n",
       "      <th>Data</th>\n",
       "      <th>Vendas</th>\n",
       "      <th>LojaID</th>\n",
       "      <th>Qtde</th>\n",
       "      <th>Receita</th>\n",
       "      <th>Receita/Vendas</th>\n",
       "    </tr>\n",
       "  </thead>\n",
       "  <tbody>\n",
       "    <tr>\n",
       "      <th>7</th>\n",
       "      <td>Natal</td>\n",
       "      <td>2019-03-18</td>\n",
       "      <td>886.0</td>\n",
       "      <td>853</td>\n",
       "      <td>4</td>\n",
       "      <td>3544.0</td>\n",
       "      <td>4.0</td>\n",
       "    </tr>\n",
       "    <tr>\n",
       "      <th>51</th>\n",
       "      <td>Natal</td>\n",
       "      <td>2018-01-21</td>\n",
       "      <td>859.0</td>\n",
       "      <td>852</td>\n",
       "      <td>4</td>\n",
       "      <td>3436.0</td>\n",
       "      <td>4.0</td>\n",
       "    </tr>\n",
       "    <tr>\n",
       "      <th>55</th>\n",
       "      <td>Natal</td>\n",
       "      <td>2019-01-08</td>\n",
       "      <td>859.0</td>\n",
       "      <td>854</td>\n",
       "      <td>4</td>\n",
       "      <td>3436.0</td>\n",
       "      <td>4.0</td>\n",
       "    </tr>\n",
       "  </tbody>\n",
       "</table>\n",
       "</div>"
      ],
      "text/plain": [
       "   Cidade       Data  Vendas LojaID  Qtde  Receita  Receita/Vendas\n",
       "7   Natal 2019-03-18   886.0    853     4   3544.0             4.0\n",
       "51  Natal 2018-01-21   859.0    852     4   3436.0             4.0\n",
       "55  Natal 2019-01-08   859.0    854     4   3436.0             4.0"
      ]
     },
     "execution_count": 40,
     "metadata": {},
     "output_type": "execute_result"
    }
   ],
   "source": [
    "#nlargest\n",
    "df.nlargest(3, \"Receita\")"
   ]
  },
  {
   "cell_type": "code",
   "execution_count": 41,
   "metadata": {
    "colab": {
     "base_uri": "https://localhost:8080/",
     "height": 142
    },
    "colab_type": "code",
    "id": "gPK25dF_5w8q",
    "outputId": "dc8bdffa-f584-4baa-a1d9-67bf4006048a"
   },
   "outputs": [
    {
     "data": {
      "text/html": [
       "<div>\n",
       "<style scoped>\n",
       "    .dataframe tbody tr th:only-of-type {\n",
       "        vertical-align: middle;\n",
       "    }\n",
       "\n",
       "    .dataframe tbody tr th {\n",
       "        vertical-align: top;\n",
       "    }\n",
       "\n",
       "    .dataframe thead th {\n",
       "        text-align: right;\n",
       "    }\n",
       "</style>\n",
       "<table border=\"1\" class=\"dataframe\">\n",
       "  <thead>\n",
       "    <tr style=\"text-align: right;\">\n",
       "      <th></th>\n",
       "      <th>Cidade</th>\n",
       "      <th>Data</th>\n",
       "      <th>Vendas</th>\n",
       "      <th>LojaID</th>\n",
       "      <th>Qtde</th>\n",
       "      <th>Receita</th>\n",
       "      <th>Receita/Vendas</th>\n",
       "    </tr>\n",
       "  </thead>\n",
       "  <tbody>\n",
       "    <tr>\n",
       "      <th>118</th>\n",
       "      <td>Aracaju</td>\n",
       "      <td>2018-01-01</td>\n",
       "      <td>3.34</td>\n",
       "      <td>1522</td>\n",
       "      <td>1</td>\n",
       "      <td>3.34</td>\n",
       "      <td>1.0</td>\n",
       "    </tr>\n",
       "    <tr>\n",
       "      <th>65</th>\n",
       "      <td>Recife</td>\n",
       "      <td>2019-01-01</td>\n",
       "      <td>4.01</td>\n",
       "      <td>981</td>\n",
       "      <td>1</td>\n",
       "      <td>4.01</td>\n",
       "      <td>1.0</td>\n",
       "    </tr>\n",
       "    <tr>\n",
       "      <th>92</th>\n",
       "      <td>Natal</td>\n",
       "      <td>2019-01-02</td>\n",
       "      <td>4.57</td>\n",
       "      <td>1035</td>\n",
       "      <td>1</td>\n",
       "      <td>4.57</td>\n",
       "      <td>1.0</td>\n",
       "    </tr>\n",
       "  </tbody>\n",
       "</table>\n",
       "</div>"
      ],
      "text/plain": [
       "      Cidade       Data  Vendas LojaID  Qtde  Receita  Receita/Vendas\n",
       "118  Aracaju 2018-01-01    3.34   1522     1     3.34             1.0\n",
       "65    Recife 2019-01-01    4.01    981     1     4.01             1.0\n",
       "92     Natal 2019-01-02    4.57   1035     1     4.57             1.0"
      ]
     },
     "execution_count": 41,
     "metadata": {},
     "output_type": "execute_result"
    }
   ],
   "source": [
    "#nsamllest\n",
    "df.nsmallest(3, \"Receita\")"
   ]
  },
  {
   "cell_type": "code",
   "execution_count": 42,
   "metadata": {
    "colab": {
     "base_uri": "https://localhost:8080/",
     "height": 136
    },
    "colab_type": "code",
    "id": "VS5Bu2fQ53fG",
    "outputId": "8d41e480-5db7-4175-cb4e-184f91a52a38"
   },
   "outputs": [
    {
     "data": {
      "text/plain": [
       "Cidade\n",
       "Aracaju       48748.25\n",
       "Fortaleza     37913.97\n",
       "Natal        167227.52\n",
       "Recife        51936.51\n",
       "Salvador      40596.73\n",
       "Name: Receita, dtype: float64"
      ]
     },
     "execution_count": 42,
     "metadata": {},
     "output_type": "execute_result"
    }
   ],
   "source": [
    "#Agrupamento por cidade\n",
    "df.groupby(\"Cidade\")[\"Receita\"].sum()"
   ]
  },
  {
   "cell_type": "code",
   "execution_count": 43,
   "metadata": {
    "colab": {
     "base_uri": "https://localhost:8080/",
     "height": 359
    },
    "colab_type": "code",
    "id": "wYZDthyQ6DMI",
    "outputId": "524d93a9-0246-46fe-8bfe-9451bc52b65a"
   },
   "outputs": [
    {
     "data": {
      "text/html": [
       "<div>\n",
       "<style scoped>\n",
       "    .dataframe tbody tr th:only-of-type {\n",
       "        vertical-align: middle;\n",
       "    }\n",
       "\n",
       "    .dataframe tbody tr th {\n",
       "        vertical-align: top;\n",
       "    }\n",
       "\n",
       "    .dataframe thead th {\n",
       "        text-align: right;\n",
       "    }\n",
       "</style>\n",
       "<table border=\"1\" class=\"dataframe\">\n",
       "  <thead>\n",
       "    <tr style=\"text-align: right;\">\n",
       "      <th></th>\n",
       "      <th>Cidade</th>\n",
       "      <th>Data</th>\n",
       "      <th>Vendas</th>\n",
       "      <th>LojaID</th>\n",
       "      <th>Qtde</th>\n",
       "      <th>Receita</th>\n",
       "      <th>Receita/Vendas</th>\n",
       "    </tr>\n",
       "  </thead>\n",
       "  <tbody>\n",
       "    <tr>\n",
       "      <th>7</th>\n",
       "      <td>Natal</td>\n",
       "      <td>2019-03-18</td>\n",
       "      <td>886.0</td>\n",
       "      <td>853</td>\n",
       "      <td>4</td>\n",
       "      <td>3544.0</td>\n",
       "      <td>4.0</td>\n",
       "    </tr>\n",
       "    <tr>\n",
       "      <th>55</th>\n",
       "      <td>Natal</td>\n",
       "      <td>2019-01-08</td>\n",
       "      <td>859.0</td>\n",
       "      <td>854</td>\n",
       "      <td>4</td>\n",
       "      <td>3436.0</td>\n",
       "      <td>4.0</td>\n",
       "    </tr>\n",
       "    <tr>\n",
       "      <th>51</th>\n",
       "      <td>Natal</td>\n",
       "      <td>2018-01-21</td>\n",
       "      <td>859.0</td>\n",
       "      <td>852</td>\n",
       "      <td>4</td>\n",
       "      <td>3436.0</td>\n",
       "      <td>4.0</td>\n",
       "    </tr>\n",
       "    <tr>\n",
       "      <th>30</th>\n",
       "      <td>Natal</td>\n",
       "      <td>2018-10-02</td>\n",
       "      <td>856.0</td>\n",
       "      <td>853</td>\n",
       "      <td>4</td>\n",
       "      <td>3424.0</td>\n",
       "      <td>4.0</td>\n",
       "    </tr>\n",
       "    <tr>\n",
       "      <th>41</th>\n",
       "      <td>Natal</td>\n",
       "      <td>2018-05-20</td>\n",
       "      <td>835.0</td>\n",
       "      <td>852</td>\n",
       "      <td>4</td>\n",
       "      <td>3340.0</td>\n",
       "      <td>4.0</td>\n",
       "    </tr>\n",
       "    <tr>\n",
       "      <th>38</th>\n",
       "      <td>Natal</td>\n",
       "      <td>2018-02-25</td>\n",
       "      <td>828.0</td>\n",
       "      <td>852</td>\n",
       "      <td>4</td>\n",
       "      <td>3312.0</td>\n",
       "      <td>4.0</td>\n",
       "    </tr>\n",
       "    <tr>\n",
       "      <th>10</th>\n",
       "      <td>Natal</td>\n",
       "      <td>2018-10-27</td>\n",
       "      <td>828.0</td>\n",
       "      <td>852</td>\n",
       "      <td>4</td>\n",
       "      <td>3312.0</td>\n",
       "      <td>4.0</td>\n",
       "    </tr>\n",
       "    <tr>\n",
       "      <th>69</th>\n",
       "      <td>Natal</td>\n",
       "      <td>2019-03-24</td>\n",
       "      <td>817.0</td>\n",
       "      <td>852</td>\n",
       "      <td>4</td>\n",
       "      <td>3268.0</td>\n",
       "      <td>4.0</td>\n",
       "    </tr>\n",
       "    <tr>\n",
       "      <th>62</th>\n",
       "      <td>Natal</td>\n",
       "      <td>2018-02-10</td>\n",
       "      <td>793.0</td>\n",
       "      <td>854</td>\n",
       "      <td>4</td>\n",
       "      <td>3172.0</td>\n",
       "      <td>4.0</td>\n",
       "    </tr>\n",
       "    <tr>\n",
       "      <th>52</th>\n",
       "      <td>Natal</td>\n",
       "      <td>2018-04-27</td>\n",
       "      <td>778.0</td>\n",
       "      <td>854</td>\n",
       "      <td>4</td>\n",
       "      <td>3112.0</td>\n",
       "      <td>4.0</td>\n",
       "    </tr>\n",
       "  </tbody>\n",
       "</table>\n",
       "</div>"
      ],
      "text/plain": [
       "   Cidade       Data  Vendas LojaID  Qtde  Receita  Receita/Vendas\n",
       "7   Natal 2019-03-18   886.0    853     4   3544.0             4.0\n",
       "55  Natal 2019-01-08   859.0    854     4   3436.0             4.0\n",
       "51  Natal 2018-01-21   859.0    852     4   3436.0             4.0\n",
       "30  Natal 2018-10-02   856.0    853     4   3424.0             4.0\n",
       "41  Natal 2018-05-20   835.0    852     4   3340.0             4.0\n",
       "38  Natal 2018-02-25   828.0    852     4   3312.0             4.0\n",
       "10  Natal 2018-10-27   828.0    852     4   3312.0             4.0\n",
       "69  Natal 2019-03-24   817.0    852     4   3268.0             4.0\n",
       "62  Natal 2018-02-10   793.0    854     4   3172.0             4.0\n",
       "52  Natal 2018-04-27   778.0    854     4   3112.0             4.0"
      ]
     },
     "execution_count": 43,
     "metadata": {},
     "output_type": "execute_result"
    }
   ],
   "source": [
    "#Ordenando o conjunto de dados\n",
    "df.sort_values(\"Receita\", ascending=False).head(10)"
   ]
  },
  {
   "cell_type": "markdown",
   "metadata": {
    "colab_type": "text",
    "id": "6cA7C78N6sV2"
   },
   "source": [
    "### **Trabalhando com datas**"
   ]
  },
  {
   "cell_type": "code",
   "execution_count": 44,
   "metadata": {
    "colab": {},
    "colab_type": "code",
    "id": "bRaEoWjR6deI"
   },
   "outputs": [],
   "source": [
    "#Trasnformando a coluna de data em tipo inteiro\n",
    "df[\"Data\"] = df[\"Data\"].astype(\"int64\")"
   ]
  },
  {
   "cell_type": "code",
   "execution_count": 45,
   "metadata": {
    "colab": {
     "base_uri": "https://localhost:8080/",
     "height": 153
    },
    "colab_type": "code",
    "id": "dz5kfhncHi7Y",
    "outputId": "275eb110-54a8-450e-b8c6-165961d670b7"
   },
   "outputs": [
    {
     "data": {
      "text/plain": [
       "Cidade             object\n",
       "Data                int64\n",
       "Vendas            float64\n",
       "LojaID             object\n",
       "Qtde                int64\n",
       "Receita           float64\n",
       "Receita/Vendas    float64\n",
       "dtype: object"
      ]
     },
     "execution_count": 45,
     "metadata": {},
     "output_type": "execute_result"
    }
   ],
   "source": [
    "#Verificando o tipo de dado de cada coluna\n",
    "df.dtypes"
   ]
  },
  {
   "cell_type": "code",
   "execution_count": 46,
   "metadata": {
    "colab": {},
    "colab_type": "code",
    "id": "oQhrdhlyHkED"
   },
   "outputs": [],
   "source": [
    "#Transformando coluna de data em data\n",
    "df[\"Data\"] = pd.to_datetime(df[\"Data\"])"
   ]
  },
  {
   "cell_type": "code",
   "execution_count": 47,
   "metadata": {
    "colab": {
     "base_uri": "https://localhost:8080/",
     "height": 153
    },
    "colab_type": "code",
    "id": "F5zeaq6tH1P0",
    "outputId": "5b8043b2-c63b-4322-df5a-dd41737591c6"
   },
   "outputs": [
    {
     "data": {
      "text/plain": [
       "Cidade                    object\n",
       "Data              datetime64[ns]\n",
       "Vendas                   float64\n",
       "LojaID                    object\n",
       "Qtde                       int64\n",
       "Receita                  float64\n",
       "Receita/Vendas           float64\n",
       "dtype: object"
      ]
     },
     "execution_count": 47,
     "metadata": {},
     "output_type": "execute_result"
    }
   ],
   "source": [
    "df.dtypes"
   ]
  },
  {
   "cell_type": "code",
   "execution_count": 48,
   "metadata": {
    "colab": {
     "base_uri": "https://localhost:8080/",
     "height": 85
    },
    "colab_type": "code",
    "id": "c027o0jyH2qg",
    "outputId": "4db1851a-4712-44b6-f297-ec2c16d61f67"
   },
   "outputs": [
    {
     "data": {
      "text/plain": [
       "Data\n",
       "2018    118176.53\n",
       "2019    228246.45\n",
       "Name: Receita, dtype: float64"
      ]
     },
     "execution_count": 48,
     "metadata": {},
     "output_type": "execute_result"
    }
   ],
   "source": [
    "#Agrupamento por ano\n",
    "df.groupby(df[\"Data\"].dt.year)[\"Receita\"].sum()"
   ]
  },
  {
   "cell_type": "code",
   "execution_count": 49,
   "metadata": {
    "colab": {},
    "colab_type": "code",
    "id": "kX_HYKgQIEPD"
   },
   "outputs": [],
   "source": [
    "#Criando uma nova coluna com o ano\n",
    "df[\"Ano_Venda\"] = df[\"Data\"].dt.year"
   ]
  },
  {
   "cell_type": "code",
   "execution_count": 50,
   "metadata": {
    "colab": {
     "base_uri": "https://localhost:8080/",
     "height": 204
    },
    "colab_type": "code",
    "id": "MJjiTggaISUi",
    "outputId": "664952a0-57c6-4f6d-ad6f-03a5d846d557"
   },
   "outputs": [
    {
     "data": {
      "text/html": [
       "<div>\n",
       "<style scoped>\n",
       "    .dataframe tbody tr th:only-of-type {\n",
       "        vertical-align: middle;\n",
       "    }\n",
       "\n",
       "    .dataframe tbody tr th {\n",
       "        vertical-align: top;\n",
       "    }\n",
       "\n",
       "    .dataframe thead th {\n",
       "        text-align: right;\n",
       "    }\n",
       "</style>\n",
       "<table border=\"1\" class=\"dataframe\">\n",
       "  <thead>\n",
       "    <tr style=\"text-align: right;\">\n",
       "      <th></th>\n",
       "      <th>Cidade</th>\n",
       "      <th>Data</th>\n",
       "      <th>Vendas</th>\n",
       "      <th>LojaID</th>\n",
       "      <th>Qtde</th>\n",
       "      <th>Receita</th>\n",
       "      <th>Receita/Vendas</th>\n",
       "      <th>Ano_Venda</th>\n",
       "    </tr>\n",
       "  </thead>\n",
       "  <tbody>\n",
       "    <tr>\n",
       "      <th>81</th>\n",
       "      <td>Fortaleza</td>\n",
       "      <td>2019-01-01</td>\n",
       "      <td>10.68</td>\n",
       "      <td>1005</td>\n",
       "      <td>1</td>\n",
       "      <td>10.68</td>\n",
       "      <td>1.0</td>\n",
       "      <td>2019</td>\n",
       "    </tr>\n",
       "    <tr>\n",
       "      <th>46</th>\n",
       "      <td>Recife</td>\n",
       "      <td>2019-01-01</td>\n",
       "      <td>239.17</td>\n",
       "      <td>981</td>\n",
       "      <td>8</td>\n",
       "      <td>1913.36</td>\n",
       "      <td>8.0</td>\n",
       "      <td>2019</td>\n",
       "    </tr>\n",
       "    <tr>\n",
       "      <th>127</th>\n",
       "      <td>Aracaju</td>\n",
       "      <td>2018-01-01</td>\n",
       "      <td>33.12</td>\n",
       "      <td>1522</td>\n",
       "      <td>9</td>\n",
       "      <td>298.08</td>\n",
       "      <td>9.0</td>\n",
       "      <td>2018</td>\n",
       "    </tr>\n",
       "    <tr>\n",
       "      <th>53</th>\n",
       "      <td>Fortaleza</td>\n",
       "      <td>2019-01-01</td>\n",
       "      <td>11.48</td>\n",
       "      <td>1002</td>\n",
       "      <td>4</td>\n",
       "      <td>45.92</td>\n",
       "      <td>4.0</td>\n",
       "      <td>2019</td>\n",
       "    </tr>\n",
       "    <tr>\n",
       "      <th>180</th>\n",
       "      <td>Salvador</td>\n",
       "      <td>2019-01-02</td>\n",
       "      <td>116.63</td>\n",
       "      <td>1035</td>\n",
       "      <td>2</td>\n",
       "      <td>233.26</td>\n",
       "      <td>2.0</td>\n",
       "      <td>2019</td>\n",
       "    </tr>\n",
       "  </tbody>\n",
       "</table>\n",
       "</div>"
      ],
      "text/plain": [
       "        Cidade       Data  Vendas LojaID  Qtde  Receita  Receita/Vendas  \\\n",
       "81   Fortaleza 2019-01-01   10.68   1005     1    10.68             1.0   \n",
       "46      Recife 2019-01-01  239.17    981     8  1913.36             8.0   \n",
       "127    Aracaju 2018-01-01   33.12   1522     9   298.08             9.0   \n",
       "53   Fortaleza 2019-01-01   11.48   1002     4    45.92             4.0   \n",
       "180   Salvador 2019-01-02  116.63   1035     2   233.26             2.0   \n",
       "\n",
       "     Ano_Venda  \n",
       "81        2019  \n",
       "46        2019  \n",
       "127       2018  \n",
       "53        2019  \n",
       "180       2019  "
      ]
     },
     "execution_count": 50,
     "metadata": {},
     "output_type": "execute_result"
    }
   ],
   "source": [
    "df.sample(5)"
   ]
  },
  {
   "cell_type": "code",
   "execution_count": 51,
   "metadata": {
    "colab": {},
    "colab_type": "code",
    "id": "QPNcE_6rIT6F"
   },
   "outputs": [],
   "source": [
    "#Extraindo o mês e o dia\n",
    "df[\"mes_venda\"], df[\"dia_venda\"] = (df[\"Data\"].dt.month, df[\"Data\"].dt.day)"
   ]
  },
  {
   "cell_type": "code",
   "execution_count": 52,
   "metadata": {
    "colab": {
     "base_uri": "https://localhost:8080/",
     "height": 204
    },
    "colab_type": "code",
    "id": "9AOp3NNfIrah",
    "outputId": "be23b592-06ec-4eab-88f0-46da74f85544"
   },
   "outputs": [
    {
     "data": {
      "text/html": [
       "<div>\n",
       "<style scoped>\n",
       "    .dataframe tbody tr th:only-of-type {\n",
       "        vertical-align: middle;\n",
       "    }\n",
       "\n",
       "    .dataframe tbody tr th {\n",
       "        vertical-align: top;\n",
       "    }\n",
       "\n",
       "    .dataframe thead th {\n",
       "        text-align: right;\n",
       "    }\n",
       "</style>\n",
       "<table border=\"1\" class=\"dataframe\">\n",
       "  <thead>\n",
       "    <tr style=\"text-align: right;\">\n",
       "      <th></th>\n",
       "      <th>Cidade</th>\n",
       "      <th>Data</th>\n",
       "      <th>Vendas</th>\n",
       "      <th>LojaID</th>\n",
       "      <th>Qtde</th>\n",
       "      <th>Receita</th>\n",
       "      <th>Receita/Vendas</th>\n",
       "      <th>Ano_Venda</th>\n",
       "      <th>mes_venda</th>\n",
       "      <th>dia_venda</th>\n",
       "    </tr>\n",
       "  </thead>\n",
       "  <tbody>\n",
       "    <tr>\n",
       "      <th>24</th>\n",
       "      <td>Aracaju</td>\n",
       "      <td>2018-01-01</td>\n",
       "      <td>151.04</td>\n",
       "      <td>1522</td>\n",
       "      <td>6</td>\n",
       "      <td>906.24</td>\n",
       "      <td>6.0</td>\n",
       "      <td>2018</td>\n",
       "      <td>1</td>\n",
       "      <td>1</td>\n",
       "    </tr>\n",
       "    <tr>\n",
       "      <th>141</th>\n",
       "      <td>Fortaleza</td>\n",
       "      <td>2019-03-02</td>\n",
       "      <td>182.75</td>\n",
       "      <td>983</td>\n",
       "      <td>8</td>\n",
       "      <td>1462.00</td>\n",
       "      <td>8.0</td>\n",
       "      <td>2019</td>\n",
       "      <td>3</td>\n",
       "      <td>2</td>\n",
       "    </tr>\n",
       "    <tr>\n",
       "      <th>238</th>\n",
       "      <td>Salvador</td>\n",
       "      <td>2019-01-03</td>\n",
       "      <td>139.64</td>\n",
       "      <td>1035</td>\n",
       "      <td>1</td>\n",
       "      <td>139.64</td>\n",
       "      <td>1.0</td>\n",
       "      <td>2019</td>\n",
       "      <td>1</td>\n",
       "      <td>3</td>\n",
       "    </tr>\n",
       "    <tr>\n",
       "      <th>55</th>\n",
       "      <td>Aracaju</td>\n",
       "      <td>2018-01-01</td>\n",
       "      <td>67.23</td>\n",
       "      <td>1520</td>\n",
       "      <td>8</td>\n",
       "      <td>537.84</td>\n",
       "      <td>8.0</td>\n",
       "      <td>2018</td>\n",
       "      <td>1</td>\n",
       "      <td>1</td>\n",
       "    </tr>\n",
       "    <tr>\n",
       "      <th>88</th>\n",
       "      <td>Natal</td>\n",
       "      <td>2019-01-02</td>\n",
       "      <td>31.20</td>\n",
       "      <td>1036</td>\n",
       "      <td>1</td>\n",
       "      <td>31.20</td>\n",
       "      <td>1.0</td>\n",
       "      <td>2019</td>\n",
       "      <td>1</td>\n",
       "      <td>2</td>\n",
       "    </tr>\n",
       "  </tbody>\n",
       "</table>\n",
       "</div>"
      ],
      "text/plain": [
       "        Cidade       Data  Vendas LojaID  Qtde  Receita  Receita/Vendas  \\\n",
       "24     Aracaju 2018-01-01  151.04   1522     6   906.24             6.0   \n",
       "141  Fortaleza 2019-03-02  182.75    983     8  1462.00             8.0   \n",
       "238   Salvador 2019-01-03  139.64   1035     1   139.64             1.0   \n",
       "55     Aracaju 2018-01-01   67.23   1520     8   537.84             8.0   \n",
       "88       Natal 2019-01-02   31.20   1036     1    31.20             1.0   \n",
       "\n",
       "     Ano_Venda  mes_venda  dia_venda  \n",
       "24        2018          1          1  \n",
       "141       2019          3          2  \n",
       "238       2019          1          3  \n",
       "55        2018          1          1  \n",
       "88        2019          1          2  "
      ]
     },
     "execution_count": 52,
     "metadata": {},
     "output_type": "execute_result"
    }
   ],
   "source": [
    "df.sample(5)"
   ]
  },
  {
   "cell_type": "code",
   "execution_count": 53,
   "metadata": {
    "colab": {
     "base_uri": "https://localhost:8080/",
     "height": 34
    },
    "colab_type": "code",
    "id": "r0la0X6aIuTR",
    "outputId": "bd244f1b-6e69-4991-c290-f071af4e0d60"
   },
   "outputs": [
    {
     "data": {
      "text/plain": [
       "Timestamp('2018-01-01 00:00:00')"
      ]
     },
     "execution_count": 53,
     "metadata": {},
     "output_type": "execute_result"
    }
   ],
   "source": [
    "#Retornando a data mais antiga\n",
    "df[\"Data\"].min()"
   ]
  },
  {
   "cell_type": "code",
   "execution_count": 54,
   "metadata": {
    "colab": {},
    "colab_type": "code",
    "id": "7fxtFDflI7L0"
   },
   "outputs": [],
   "source": [
    "#Calculando a diferença de dias\n",
    "df[\"diferenca_dias\"] = df[\"Data\"] - df[\"Data\"].min()"
   ]
  },
  {
   "cell_type": "code",
   "execution_count": 55,
   "metadata": {
    "colab": {
     "base_uri": "https://localhost:8080/",
     "height": 204
    },
    "colab_type": "code",
    "id": "997DVEidJKNG",
    "outputId": "3cdb03c2-cb8d-4891-b10b-27474beb1806"
   },
   "outputs": [
    {
     "data": {
      "text/html": [
       "<div>\n",
       "<style scoped>\n",
       "    .dataframe tbody tr th:only-of-type {\n",
       "        vertical-align: middle;\n",
       "    }\n",
       "\n",
       "    .dataframe tbody tr th {\n",
       "        vertical-align: top;\n",
       "    }\n",
       "\n",
       "    .dataframe thead th {\n",
       "        text-align: right;\n",
       "    }\n",
       "</style>\n",
       "<table border=\"1\" class=\"dataframe\">\n",
       "  <thead>\n",
       "    <tr style=\"text-align: right;\">\n",
       "      <th></th>\n",
       "      <th>Cidade</th>\n",
       "      <th>Data</th>\n",
       "      <th>Vendas</th>\n",
       "      <th>LojaID</th>\n",
       "      <th>Qtde</th>\n",
       "      <th>Receita</th>\n",
       "      <th>Receita/Vendas</th>\n",
       "      <th>Ano_Venda</th>\n",
       "      <th>mes_venda</th>\n",
       "      <th>dia_venda</th>\n",
       "      <th>diferenca_dias</th>\n",
       "    </tr>\n",
       "  </thead>\n",
       "  <tbody>\n",
       "    <tr>\n",
       "      <th>0</th>\n",
       "      <td>Recife</td>\n",
       "      <td>2019-01-01</td>\n",
       "      <td>162.61</td>\n",
       "      <td>981</td>\n",
       "      <td>1</td>\n",
       "      <td>162.61</td>\n",
       "      <td>1.0</td>\n",
       "      <td>2019</td>\n",
       "      <td>1</td>\n",
       "      <td>1</td>\n",
       "      <td>365 days</td>\n",
       "    </tr>\n",
       "    <tr>\n",
       "      <th>6</th>\n",
       "      <td>Fortaleza</td>\n",
       "      <td>2019-01-01</td>\n",
       "      <td>38.40</td>\n",
       "      <td>1003</td>\n",
       "      <td>4</td>\n",
       "      <td>153.60</td>\n",
       "      <td>4.0</td>\n",
       "      <td>2019</td>\n",
       "      <td>1</td>\n",
       "      <td>1</td>\n",
       "      <td>365 days</td>\n",
       "    </tr>\n",
       "    <tr>\n",
       "      <th>160</th>\n",
       "      <td>Salvador</td>\n",
       "      <td>2019-01-02</td>\n",
       "      <td>11.76</td>\n",
       "      <td>1034</td>\n",
       "      <td>1</td>\n",
       "      <td>11.76</td>\n",
       "      <td>1.0</td>\n",
       "      <td>2019</td>\n",
       "      <td>1</td>\n",
       "      <td>2</td>\n",
       "      <td>366 days</td>\n",
       "    </tr>\n",
       "    <tr>\n",
       "      <th>130</th>\n",
       "      <td>Natal</td>\n",
       "      <td>2019-01-02</td>\n",
       "      <td>59.78</td>\n",
       "      <td>1036</td>\n",
       "      <td>1</td>\n",
       "      <td>59.78</td>\n",
       "      <td>1.0</td>\n",
       "      <td>2019</td>\n",
       "      <td>1</td>\n",
       "      <td>2</td>\n",
       "      <td>366 days</td>\n",
       "    </tr>\n",
       "    <tr>\n",
       "      <th>130</th>\n",
       "      <td>Recife</td>\n",
       "      <td>2019-03-02</td>\n",
       "      <td>12.36</td>\n",
       "      <td>983</td>\n",
       "      <td>4</td>\n",
       "      <td>49.44</td>\n",
       "      <td>4.0</td>\n",
       "      <td>2019</td>\n",
       "      <td>3</td>\n",
       "      <td>2</td>\n",
       "      <td>425 days</td>\n",
       "    </tr>\n",
       "  </tbody>\n",
       "</table>\n",
       "</div>"
      ],
      "text/plain": [
       "        Cidade       Data  Vendas LojaID  Qtde  Receita  Receita/Vendas  \\\n",
       "0       Recife 2019-01-01  162.61    981     1   162.61             1.0   \n",
       "6    Fortaleza 2019-01-01   38.40   1003     4   153.60             4.0   \n",
       "160   Salvador 2019-01-02   11.76   1034     1    11.76             1.0   \n",
       "130      Natal 2019-01-02   59.78   1036     1    59.78             1.0   \n",
       "130     Recife 2019-03-02   12.36    983     4    49.44             4.0   \n",
       "\n",
       "     Ano_Venda  mes_venda  dia_venda diferenca_dias  \n",
       "0         2019          1          1       365 days  \n",
       "6         2019          1          1       365 days  \n",
       "160       2019          1          2       366 days  \n",
       "130       2019          1          2       366 days  \n",
       "130       2019          3          2       425 days  "
      ]
     },
     "execution_count": 55,
     "metadata": {},
     "output_type": "execute_result"
    }
   ],
   "source": [
    "df.sample(5)"
   ]
  },
  {
   "cell_type": "code",
   "execution_count": 56,
   "metadata": {
    "colab": {},
    "colab_type": "code",
    "id": "KHAOU_EuJLkb"
   },
   "outputs": [],
   "source": [
    "#Criando a coluna de trimestre\n",
    "df[\"trimestre_venda\"] = df[\"Data\"].dt.quarter"
   ]
  },
  {
   "cell_type": "code",
   "execution_count": 72,
   "metadata": {
    "colab": {
     "base_uri": "https://localhost:8080/",
     "height": 204
    },
    "colab_type": "code",
    "id": "OWZos9y5JbDQ",
    "outputId": "79806c1f-ed51-4705-d0b9-cbb2659f5844"
   },
   "outputs": [
    {
     "data": {
      "text/html": [
       "<div>\n",
       "<style scoped>\n",
       "    .dataframe tbody tr th:only-of-type {\n",
       "        vertical-align: middle;\n",
       "    }\n",
       "\n",
       "    .dataframe tbody tr th {\n",
       "        vertical-align: top;\n",
       "    }\n",
       "\n",
       "    .dataframe thead th {\n",
       "        text-align: right;\n",
       "    }\n",
       "</style>\n",
       "<table border=\"1\" class=\"dataframe\">\n",
       "  <thead>\n",
       "    <tr style=\"text-align: right;\">\n",
       "      <th></th>\n",
       "      <th>Cidade</th>\n",
       "      <th>Data</th>\n",
       "      <th>Vendas</th>\n",
       "      <th>LojaID</th>\n",
       "      <th>Qtde</th>\n",
       "      <th>Receita</th>\n",
       "      <th>Receita/Vendas</th>\n",
       "      <th>Ano_Venda</th>\n",
       "      <th>mes_venda</th>\n",
       "      <th>dia_venda</th>\n",
       "      <th>diferenca_dias</th>\n",
       "      <th>trimestre_venda</th>\n",
       "    </tr>\n",
       "  </thead>\n",
       "  <tbody>\n",
       "    <tr>\n",
       "      <th>95</th>\n",
       "      <td>Salvador</td>\n",
       "      <td>2019-01-01</td>\n",
       "      <td>5.13</td>\n",
       "      <td>1035</td>\n",
       "      <td>1</td>\n",
       "      <td>5.13</td>\n",
       "      <td>1.0</td>\n",
       "      <td>2019</td>\n",
       "      <td>1</td>\n",
       "      <td>1</td>\n",
       "      <td>365 days</td>\n",
       "      <td>1</td>\n",
       "    </tr>\n",
       "    <tr>\n",
       "      <th>16</th>\n",
       "      <td>Natal</td>\n",
       "      <td>2018-07-01</td>\n",
       "      <td>298.00</td>\n",
       "      <td>854</td>\n",
       "      <td>3</td>\n",
       "      <td>894.00</td>\n",
       "      <td>3.0</td>\n",
       "      <td>2018</td>\n",
       "      <td>7</td>\n",
       "      <td>1</td>\n",
       "      <td>181 days</td>\n",
       "      <td>3</td>\n",
       "    </tr>\n",
       "    <tr>\n",
       "      <th>80</th>\n",
       "      <td>Natal</td>\n",
       "      <td>2018-05-23</td>\n",
       "      <td>264.00</td>\n",
       "      <td>852</td>\n",
       "      <td>3</td>\n",
       "      <td>792.00</td>\n",
       "      <td>3.0</td>\n",
       "      <td>2018</td>\n",
       "      <td>5</td>\n",
       "      <td>23</td>\n",
       "      <td>142 days</td>\n",
       "      <td>2</td>\n",
       "    </tr>\n",
       "    <tr>\n",
       "      <th>62</th>\n",
       "      <td>Recife</td>\n",
       "      <td>2019-01-01</td>\n",
       "      <td>23.04</td>\n",
       "      <td>983</td>\n",
       "      <td>6</td>\n",
       "      <td>138.24</td>\n",
       "      <td>6.0</td>\n",
       "      <td>2019</td>\n",
       "      <td>1</td>\n",
       "      <td>1</td>\n",
       "      <td>365 days</td>\n",
       "      <td>1</td>\n",
       "    </tr>\n",
       "    <tr>\n",
       "      <th>122</th>\n",
       "      <td>Aracaju</td>\n",
       "      <td>2018-01-01</td>\n",
       "      <td>38.49</td>\n",
       "      <td>1522</td>\n",
       "      <td>4</td>\n",
       "      <td>153.96</td>\n",
       "      <td>4.0</td>\n",
       "      <td>2018</td>\n",
       "      <td>1</td>\n",
       "      <td>1</td>\n",
       "      <td>0 days</td>\n",
       "      <td>1</td>\n",
       "    </tr>\n",
       "  </tbody>\n",
       "</table>\n",
       "</div>"
      ],
      "text/plain": [
       "       Cidade       Data  Vendas LojaID  Qtde  Receita  Receita/Vendas  \\\n",
       "95   Salvador 2019-01-01    5.13   1035     1     5.13             1.0   \n",
       "16      Natal 2018-07-01  298.00    854     3   894.00             3.0   \n",
       "80      Natal 2018-05-23  264.00    852     3   792.00             3.0   \n",
       "62     Recife 2019-01-01   23.04    983     6   138.24             6.0   \n",
       "122   Aracaju 2018-01-01   38.49   1522     4   153.96             4.0   \n",
       "\n",
       "     Ano_Venda  mes_venda  dia_venda diferenca_dias  trimestre_venda  \n",
       "95        2019          1          1       365 days                1  \n",
       "16        2018          7          1       181 days                3  \n",
       "80        2018          5         23       142 days                2  \n",
       "62        2019          1          1       365 days                1  \n",
       "122       2018          1          1         0 days                1  "
      ]
     },
     "execution_count": 72,
     "metadata": {},
     "output_type": "execute_result"
    }
   ],
   "source": [
    "df.sample(5)"
   ]
  },
  {
   "cell_type": "code",
   "execution_count": 58,
   "metadata": {
    "colab": {},
    "colab_type": "code",
    "id": "ie2WTtU5Jc-G"
   },
   "outputs": [],
   "source": [
    "#Filtrando as vendas de 2019 do mês de março\n",
    "vendas_marco_19 = df.loc[(df[\"Data\"].dt.year == 2019) & (df[\"Data\"].dt.month == 3)]"
   ]
  },
  {
   "cell_type": "code",
   "execution_count": 59,
   "metadata": {
    "colab": {
     "base_uri": "https://localhost:8080/",
     "height": 669
    },
    "colab_type": "code",
    "id": "4x6GgzC9KB_e",
    "outputId": "c65a0365-31d1-4876-96a9-803c355a4bed"
   },
   "outputs": [
    {
     "data": {
      "text/html": [
       "<div>\n",
       "<style scoped>\n",
       "    .dataframe tbody tr th:only-of-type {\n",
       "        vertical-align: middle;\n",
       "    }\n",
       "\n",
       "    .dataframe tbody tr th {\n",
       "        vertical-align: top;\n",
       "    }\n",
       "\n",
       "    .dataframe thead th {\n",
       "        text-align: right;\n",
       "    }\n",
       "</style>\n",
       "<table border=\"1\" class=\"dataframe\">\n",
       "  <thead>\n",
       "    <tr style=\"text-align: right;\">\n",
       "      <th></th>\n",
       "      <th>Cidade</th>\n",
       "      <th>Data</th>\n",
       "      <th>Vendas</th>\n",
       "      <th>LojaID</th>\n",
       "      <th>Qtde</th>\n",
       "      <th>Receita</th>\n",
       "      <th>Receita/Vendas</th>\n",
       "      <th>Ano_Venda</th>\n",
       "      <th>mes_venda</th>\n",
       "      <th>dia_venda</th>\n",
       "      <th>diferenca_dias</th>\n",
       "      <th>trimestre_venda</th>\n",
       "    </tr>\n",
       "  </thead>\n",
       "  <tbody>\n",
       "    <tr>\n",
       "      <th>120</th>\n",
       "      <td>Salvador</td>\n",
       "      <td>2019-03-02</td>\n",
       "      <td>140.17</td>\n",
       "      <td>1036</td>\n",
       "      <td>2</td>\n",
       "      <td>280.34</td>\n",
       "      <td>2.0</td>\n",
       "      <td>2019</td>\n",
       "      <td>3</td>\n",
       "      <td>2</td>\n",
       "      <td>425 days</td>\n",
       "      <td>1</td>\n",
       "    </tr>\n",
       "    <tr>\n",
       "      <th>118</th>\n",
       "      <td>Salvador</td>\n",
       "      <td>2019-03-02</td>\n",
       "      <td>92.21</td>\n",
       "      <td>1035</td>\n",
       "      <td>2</td>\n",
       "      <td>184.42</td>\n",
       "      <td>2.0</td>\n",
       "      <td>2019</td>\n",
       "      <td>3</td>\n",
       "      <td>2</td>\n",
       "      <td>425 days</td>\n",
       "      <td>1</td>\n",
       "    </tr>\n",
       "    <tr>\n",
       "      <th>135</th>\n",
       "      <td>Salvador</td>\n",
       "      <td>2019-03-02</td>\n",
       "      <td>9.95</td>\n",
       "      <td>1037</td>\n",
       "      <td>3</td>\n",
       "      <td>29.85</td>\n",
       "      <td>3.0</td>\n",
       "      <td>2019</td>\n",
       "      <td>3</td>\n",
       "      <td>2</td>\n",
       "      <td>425 days</td>\n",
       "      <td>1</td>\n",
       "    </tr>\n",
       "    <tr>\n",
       "      <th>115</th>\n",
       "      <td>Salvador</td>\n",
       "      <td>2019-03-02</td>\n",
       "      <td>202.33</td>\n",
       "      <td>1035</td>\n",
       "      <td>2</td>\n",
       "      <td>404.66</td>\n",
       "      <td>2.0</td>\n",
       "      <td>2019</td>\n",
       "      <td>3</td>\n",
       "      <td>2</td>\n",
       "      <td>425 days</td>\n",
       "      <td>1</td>\n",
       "    </tr>\n",
       "    <tr>\n",
       "      <th>141</th>\n",
       "      <td>Fortaleza</td>\n",
       "      <td>2019-03-02</td>\n",
       "      <td>182.75</td>\n",
       "      <td>983</td>\n",
       "      <td>8</td>\n",
       "      <td>1462.00</td>\n",
       "      <td>8.0</td>\n",
       "      <td>2019</td>\n",
       "      <td>3</td>\n",
       "      <td>2</td>\n",
       "      <td>425 days</td>\n",
       "      <td>1</td>\n",
       "    </tr>\n",
       "    <tr>\n",
       "      <th>42</th>\n",
       "      <td>Natal</td>\n",
       "      <td>2019-03-02</td>\n",
       "      <td>775.00</td>\n",
       "      <td>854</td>\n",
       "      <td>2</td>\n",
       "      <td>1550.00</td>\n",
       "      <td>2.0</td>\n",
       "      <td>2019</td>\n",
       "      <td>3</td>\n",
       "      <td>2</td>\n",
       "      <td>425 days</td>\n",
       "      <td>1</td>\n",
       "    </tr>\n",
       "    <tr>\n",
       "      <th>132</th>\n",
       "      <td>Fortaleza</td>\n",
       "      <td>2019-03-02</td>\n",
       "      <td>17.49</td>\n",
       "      <td>983</td>\n",
       "      <td>5</td>\n",
       "      <td>87.45</td>\n",
       "      <td>5.0</td>\n",
       "      <td>2019</td>\n",
       "      <td>3</td>\n",
       "      <td>2</td>\n",
       "      <td>425 days</td>\n",
       "      <td>1</td>\n",
       "    </tr>\n",
       "    <tr>\n",
       "      <th>121</th>\n",
       "      <td>Recife</td>\n",
       "      <td>2019-03-02</td>\n",
       "      <td>41.55</td>\n",
       "      <td>981</td>\n",
       "      <td>3</td>\n",
       "      <td>124.65</td>\n",
       "      <td>3.0</td>\n",
       "      <td>2019</td>\n",
       "      <td>3</td>\n",
       "      <td>2</td>\n",
       "      <td>425 days</td>\n",
       "      <td>1</td>\n",
       "    </tr>\n",
       "    <tr>\n",
       "      <th>113</th>\n",
       "      <td>Fortaleza</td>\n",
       "      <td>2019-03-02</td>\n",
       "      <td>38.63</td>\n",
       "      <td>980</td>\n",
       "      <td>2</td>\n",
       "      <td>77.26</td>\n",
       "      <td>2.0</td>\n",
       "      <td>2019</td>\n",
       "      <td>3</td>\n",
       "      <td>2</td>\n",
       "      <td>425 days</td>\n",
       "      <td>1</td>\n",
       "    </tr>\n",
       "    <tr>\n",
       "      <th>128</th>\n",
       "      <td>Fortaleza</td>\n",
       "      <td>2019-03-02</td>\n",
       "      <td>38.70</td>\n",
       "      <td>982</td>\n",
       "      <td>4</td>\n",
       "      <td>154.80</td>\n",
       "      <td>4.0</td>\n",
       "      <td>2019</td>\n",
       "      <td>3</td>\n",
       "      <td>2</td>\n",
       "      <td>425 days</td>\n",
       "      <td>1</td>\n",
       "    </tr>\n",
       "    <tr>\n",
       "      <th>137</th>\n",
       "      <td>Recife</td>\n",
       "      <td>2019-03-02</td>\n",
       "      <td>51.99</td>\n",
       "      <td>983</td>\n",
       "      <td>3</td>\n",
       "      <td>155.97</td>\n",
       "      <td>3.0</td>\n",
       "      <td>2019</td>\n",
       "      <td>3</td>\n",
       "      <td>2</td>\n",
       "      <td>425 days</td>\n",
       "      <td>1</td>\n",
       "    </tr>\n",
       "    <tr>\n",
       "      <th>128</th>\n",
       "      <td>Recife</td>\n",
       "      <td>2019-03-02</td>\n",
       "      <td>38.70</td>\n",
       "      <td>982</td>\n",
       "      <td>4</td>\n",
       "      <td>154.80</td>\n",
       "      <td>4.0</td>\n",
       "      <td>2019</td>\n",
       "      <td>3</td>\n",
       "      <td>2</td>\n",
       "      <td>425 days</td>\n",
       "      <td>1</td>\n",
       "    </tr>\n",
       "    <tr>\n",
       "      <th>139</th>\n",
       "      <td>Recife</td>\n",
       "      <td>2019-03-02</td>\n",
       "      <td>141.16</td>\n",
       "      <td>980</td>\n",
       "      <td>7</td>\n",
       "      <td>988.12</td>\n",
       "      <td>7.0</td>\n",
       "      <td>2019</td>\n",
       "      <td>3</td>\n",
       "      <td>2</td>\n",
       "      <td>425 days</td>\n",
       "      <td>1</td>\n",
       "    </tr>\n",
       "    <tr>\n",
       "      <th>125</th>\n",
       "      <td>Fortaleza</td>\n",
       "      <td>2019-03-02</td>\n",
       "      <td>37.60</td>\n",
       "      <td>983</td>\n",
       "      <td>4</td>\n",
       "      <td>150.40</td>\n",
       "      <td>4.0</td>\n",
       "      <td>2019</td>\n",
       "      <td>3</td>\n",
       "      <td>2</td>\n",
       "      <td>425 days</td>\n",
       "      <td>1</td>\n",
       "    </tr>\n",
       "    <tr>\n",
       "      <th>125</th>\n",
       "      <td>Recife</td>\n",
       "      <td>2019-03-02</td>\n",
       "      <td>37.60</td>\n",
       "      <td>983</td>\n",
       "      <td>4</td>\n",
       "      <td>150.40</td>\n",
       "      <td>4.0</td>\n",
       "      <td>2019</td>\n",
       "      <td>3</td>\n",
       "      <td>2</td>\n",
       "      <td>425 days</td>\n",
       "      <td>1</td>\n",
       "    </tr>\n",
       "    <tr>\n",
       "      <th>7</th>\n",
       "      <td>Natal</td>\n",
       "      <td>2019-03-18</td>\n",
       "      <td>886.00</td>\n",
       "      <td>853</td>\n",
       "      <td>4</td>\n",
       "      <td>3544.00</td>\n",
       "      <td>4.0</td>\n",
       "      <td>2019</td>\n",
       "      <td>3</td>\n",
       "      <td>18</td>\n",
       "      <td>441 days</td>\n",
       "      <td>1</td>\n",
       "    </tr>\n",
       "    <tr>\n",
       "      <th>129</th>\n",
       "      <td>Recife</td>\n",
       "      <td>2019-03-02</td>\n",
       "      <td>35.34</td>\n",
       "      <td>982</td>\n",
       "      <td>7</td>\n",
       "      <td>247.38</td>\n",
       "      <td>7.0</td>\n",
       "      <td>2019</td>\n",
       "      <td>3</td>\n",
       "      <td>2</td>\n",
       "      <td>425 days</td>\n",
       "      <td>1</td>\n",
       "    </tr>\n",
       "    <tr>\n",
       "      <th>109</th>\n",
       "      <td>Salvador</td>\n",
       "      <td>2019-03-02</td>\n",
       "      <td>124.37</td>\n",
       "      <td>1035</td>\n",
       "      <td>1</td>\n",
       "      <td>124.37</td>\n",
       "      <td>1.0</td>\n",
       "      <td>2019</td>\n",
       "      <td>3</td>\n",
       "      <td>2</td>\n",
       "      <td>425 days</td>\n",
       "      <td>1</td>\n",
       "    </tr>\n",
       "    <tr>\n",
       "      <th>130</th>\n",
       "      <td>Recife</td>\n",
       "      <td>2019-03-02</td>\n",
       "      <td>12.36</td>\n",
       "      <td>983</td>\n",
       "      <td>4</td>\n",
       "      <td>49.44</td>\n",
       "      <td>4.0</td>\n",
       "      <td>2019</td>\n",
       "      <td>3</td>\n",
       "      <td>2</td>\n",
       "      <td>425 days</td>\n",
       "      <td>1</td>\n",
       "    </tr>\n",
       "    <tr>\n",
       "      <th>75</th>\n",
       "      <td>Natal</td>\n",
       "      <td>2019-03-30</td>\n",
       "      <td>706.00</td>\n",
       "      <td>854</td>\n",
       "      <td>2</td>\n",
       "      <td>1412.00</td>\n",
       "      <td>2.0</td>\n",
       "      <td>2019</td>\n",
       "      <td>3</td>\n",
       "      <td>30</td>\n",
       "      <td>453 days</td>\n",
       "      <td>1</td>\n",
       "    </tr>\n",
       "  </tbody>\n",
       "</table>\n",
       "</div>"
      ],
      "text/plain": [
       "        Cidade       Data  Vendas LojaID  Qtde  Receita  Receita/Vendas  \\\n",
       "120   Salvador 2019-03-02  140.17   1036     2   280.34             2.0   \n",
       "118   Salvador 2019-03-02   92.21   1035     2   184.42             2.0   \n",
       "135   Salvador 2019-03-02    9.95   1037     3    29.85             3.0   \n",
       "115   Salvador 2019-03-02  202.33   1035     2   404.66             2.0   \n",
       "141  Fortaleza 2019-03-02  182.75    983     8  1462.00             8.0   \n",
       "42       Natal 2019-03-02  775.00    854     2  1550.00             2.0   \n",
       "132  Fortaleza 2019-03-02   17.49    983     5    87.45             5.0   \n",
       "121     Recife 2019-03-02   41.55    981     3   124.65             3.0   \n",
       "113  Fortaleza 2019-03-02   38.63    980     2    77.26             2.0   \n",
       "128  Fortaleza 2019-03-02   38.70    982     4   154.80             4.0   \n",
       "137     Recife 2019-03-02   51.99    983     3   155.97             3.0   \n",
       "128     Recife 2019-03-02   38.70    982     4   154.80             4.0   \n",
       "139     Recife 2019-03-02  141.16    980     7   988.12             7.0   \n",
       "125  Fortaleza 2019-03-02   37.60    983     4   150.40             4.0   \n",
       "125     Recife 2019-03-02   37.60    983     4   150.40             4.0   \n",
       "7        Natal 2019-03-18  886.00    853     4  3544.00             4.0   \n",
       "129     Recife 2019-03-02   35.34    982     7   247.38             7.0   \n",
       "109   Salvador 2019-03-02  124.37   1035     1   124.37             1.0   \n",
       "130     Recife 2019-03-02   12.36    983     4    49.44             4.0   \n",
       "75       Natal 2019-03-30  706.00    854     2  1412.00             2.0   \n",
       "\n",
       "     Ano_Venda  mes_venda  dia_venda diferenca_dias  trimestre_venda  \n",
       "120       2019          3          2       425 days                1  \n",
       "118       2019          3          2       425 days                1  \n",
       "135       2019          3          2       425 days                1  \n",
       "115       2019          3          2       425 days                1  \n",
       "141       2019          3          2       425 days                1  \n",
       "42        2019          3          2       425 days                1  \n",
       "132       2019          3          2       425 days                1  \n",
       "121       2019          3          2       425 days                1  \n",
       "113       2019          3          2       425 days                1  \n",
       "128       2019          3          2       425 days                1  \n",
       "137       2019          3          2       425 days                1  \n",
       "128       2019          3          2       425 days                1  \n",
       "139       2019          3          2       425 days                1  \n",
       "125       2019          3          2       425 days                1  \n",
       "125       2019          3          2       425 days                1  \n",
       "7         2019          3         18       441 days                1  \n",
       "129       2019          3          2       425 days                1  \n",
       "109       2019          3          2       425 days                1  \n",
       "130       2019          3          2       425 days                1  \n",
       "75        2019          3         30       453 days                1  "
      ]
     },
     "execution_count": 59,
     "metadata": {},
     "output_type": "execute_result"
    }
   ],
   "source": [
    "vendas_marco_19.sample(20)"
   ]
  }
 ],
 "metadata": {
  "colab": {
   "name": "Pandas_Aula5.ipynb",
   "provenance": []
  },
  "kernelspec": {
   "display_name": "Python 3",
   "language": "python",
   "name": "python3"
  },
  "language_info": {
   "codemirror_mode": {
    "name": "ipython",
    "version": 3
   },
   "file_extension": ".py",
   "mimetype": "text/x-python",
   "name": "python",
   "nbconvert_exporter": "python",
   "pygments_lexer": "ipython3",
   "version": "3.8.2"
  }
 },
 "nbformat": 4,
 "nbformat_minor": 1
}
